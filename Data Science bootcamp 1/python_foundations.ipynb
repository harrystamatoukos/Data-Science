{
 "cells": [
  {
   "cell_type": "markdown",
   "metadata": {},
   "source": [
    "We can write text over here "
   ]
  },
  {
   "cell_type": "markdown",
   "metadata": {},
   "source": [
    "# Python foundations"
   ]
  },
  {
   "cell_type": "code",
   "execution_count": null,
   "metadata": {},
   "outputs": [],
   "source": [
    "# Python foundations\n"
   ]
  },
  {
   "cell_type": "markdown",
   "metadata": {},
   "source": [
    "## Common Data Types\n",
    "\n",
    "#### Single Elements\n",
    "- Integer - whole number, 1,2,3 ,575\n",
    "- Float - decimal 2.8, 1.65, 3.141\n",
    "- String - 'letters' text\n",
    "#### Collections\n",
    "- list: sequence of single elements or collections\n",
    "- set: is an unordered and unindexed collection \n",
    "- Tuple: like a list but cannot be changed \n",
    "- Dictionary: unordered collection of key-value pairs\n"
   ]
  },
  {
   "cell_type": "markdown",
   "metadata": {},
   "source": [
    "# Variables\n",
    "\n",
    "A name that has been assigned a values"
   ]
  },
  {
   "cell_type": "code",
   "execution_count": 3,
   "metadata": {},
   "outputs": [
    {
     "name": "stdout",
     "output_type": "stream",
     "text": [
      "hello\n"
     ]
    }
   ],
   "source": [
    "print('hello')"
   ]
  },
  {
   "cell_type": "code",
   "execution_count": 9,
   "metadata": {},
   "outputs": [
    {
     "data": {
      "text/plain": [
       "int"
      ]
     },
     "execution_count": 9,
     "metadata": {},
     "output_type": "execute_result"
    }
   ],
   "source": [
    "type(1)"
   ]
  },
  {
   "cell_type": "code",
   "execution_count": 10,
   "metadata": {},
   "outputs": [],
   "source": [
    "# Assign a float\n",
    "x = 1.0\n",
    "type(x)"
   ]
  },
  {
   "cell_type": "code",
   "execution_count": 12,
   "metadata": {},
   "outputs": [
    {
     "data": {
      "text/plain": [
       "int"
      ]
     },
     "execution_count": 12,
     "metadata": {},
     "output_type": "execute_result"
    }
   ],
   "source": [
    "# Assing a integer\n",
    "y = 1\n",
    "type(y)"
   ]
  },
  {
   "cell_type": "code",
   "execution_count": 13,
   "metadata": {},
   "outputs": [
    {
     "data": {
      "text/plain": [
       "str"
      ]
     },
     "execution_count": 13,
     "metadata": {},
     "output_type": "execute_result"
    }
   ],
   "source": [
    "#another example\n",
    "z = '1'\n",
    "type(z)"
   ]
  },
  {
   "cell_type": "markdown",
   "metadata": {},
   "source": [
    "# Operators\n",
    "Operators can be used in mathematical sense to create sums, differences, products... "
   ]
  },
  {
   "cell_type": "code",
   "execution_count": 19,
   "metadata": {},
   "outputs": [
    {
     "name": "stdout",
     "output_type": "stream",
     "text": [
      "3\n",
      "-1\n",
      "2\n",
      "0.5\n"
     ]
    }
   ],
   "source": [
    "#Addition operator\n",
    "print(1 + 2)\n",
    "# Substraction\n",
    "print(1 - 2)\n",
    "# Multiplicatoin\n",
    "print(1 * 2)\n",
    "# Division:\n",
    "print( 1 / 2)"
   ]
  },
  {
   "cell_type": "code",
   "execution_count": 21,
   "metadata": {},
   "outputs": [
    {
     "name": "stdout",
     "output_type": "stream",
     "text": [
      "1\n"
     ]
    }
   ],
   "source": [
    "# rounded=down number\n",
    "print(3//2)"
   ]
  },
  {
   "cell_type": "code",
   "execution_count": 23,
   "metadata": {},
   "outputs": [
    {
     "name": "stdout",
     "output_type": "stream",
     "text": [
      "8\n"
     ]
    }
   ],
   "source": [
    "# Exponent power operator\n",
    "print(2 ** 3)"
   ]
  },
  {
   "cell_type": "code",
   "execution_count": 24,
   "metadata": {},
   "outputs": [
    {
     "name": "stdout",
     "output_type": "stream",
     "text": [
      "1\n"
     ]
    }
   ],
   "source": [
    "# modulo operator \n",
    "print(5 % 2)"
   ]
  },
  {
   "cell_type": "markdown",
   "metadata": {},
   "source": [
    "# Booleans and Boolean operators\n",
    "True or False"
   ]
  },
  {
   "cell_type": "code",
   "execution_count": 26,
   "metadata": {},
   "outputs": [
    {
     "data": {
      "text/plain": [
       "True"
      ]
     },
     "execution_count": 26,
     "metadata": {},
     "output_type": "execute_result"
    }
   ],
   "source": [
    "True"
   ]
  },
  {
   "cell_type": "code",
   "execution_count": 27,
   "metadata": {},
   "outputs": [
    {
     "data": {
      "text/plain": [
       "False"
      ]
     },
     "execution_count": 27,
     "metadata": {},
     "output_type": "execute_result"
    }
   ],
   "source": [
    "False"
   ]
  },
  {
   "cell_type": "code",
   "execution_count": 30,
   "metadata": {},
   "outputs": [
    {
     "data": {
      "text/plain": [
       "False"
      ]
     },
     "execution_count": 30,
     "metadata": {},
     "output_type": "execute_result"
    }
   ],
   "source": [
    "False and True"
   ]
  },
  {
   "cell_type": "code",
   "execution_count": 33,
   "metadata": {},
   "outputs": [
    {
     "data": {
      "text/plain": [
       "False"
      ]
     },
     "execution_count": 33,
     "metadata": {},
     "output_type": "execute_result"
    }
   ],
   "source": [
    "1 == 1 and 1==2 "
   ]
  },
  {
   "cell_type": "code",
   "execution_count": 34,
   "metadata": {},
   "outputs": [
    {
     "data": {
      "text/plain": [
       "True"
      ]
     },
     "execution_count": 34,
     "metadata": {},
     "output_type": "execute_result"
    }
   ],
   "source": [
    "True or False"
   ]
  },
  {
   "cell_type": "code",
   "execution_count": 35,
   "metadata": {},
   "outputs": [
    {
     "data": {
      "text/plain": [
       "True"
      ]
     },
     "execution_count": 35,
     "metadata": {},
     "output_type": "execute_result"
    }
   ],
   "source": [
    "1 == 1 or 1==2 "
   ]
  },
  {
   "cell_type": "code",
   "execution_count": 36,
   "metadata": {},
   "outputs": [
    {
     "data": {
      "text/plain": [
       "True"
      ]
     },
     "execution_count": 36,
     "metadata": {},
     "output_type": "execute_result"
    }
   ],
   "source": [
    "not False"
   ]
  },
  {
   "cell_type": "code",
   "execution_count": 37,
   "metadata": {},
   "outputs": [
    {
     "data": {
      "text/plain": [
       "False"
      ]
     },
     "execution_count": 37,
     "metadata": {},
     "output_type": "execute_result"
    }
   ],
   "source": [
    "not True "
   ]
  },
  {
   "cell_type": "markdown",
   "metadata": {},
   "source": [
    "\n",
    "- and\n",
    "- or\n",
    "- not"
   ]
  },
  {
   "cell_type": "markdown",
   "metadata": {},
   "source": [
    "# Strings\n",
    "What are strings ? \n",
    "How would you use them ? Some examples ? \n",
    "\n",
    "- Misspelled words\n",
    "- upper case lower case \n",
    "- look for specific words"
   ]
  },
  {
   "cell_type": "code",
   "execution_count": 39,
   "metadata": {},
   "outputs": [
    {
     "name": "stdout",
     "output_type": "stream",
     "text": [
      "hello world\n"
     ]
    }
   ],
   "source": [
    "s = 'hello world'\n",
    "print(s)"
   ]
  },
  {
   "cell_type": "code",
   "execution_count": 40,
   "metadata": {},
   "outputs": [
    {
     "data": {
      "text/plain": [
       "str"
      ]
     },
     "execution_count": 40,
     "metadata": {},
     "output_type": "execute_result"
    }
   ],
   "source": [
    "type(s)"
   ]
  },
  {
   "cell_type": "code",
   "execution_count": 41,
   "metadata": {},
   "outputs": [
    {
     "data": {
      "text/plain": [
       "11"
      ]
     },
     "execution_count": 41,
     "metadata": {},
     "output_type": "execute_result"
    }
   ],
   "source": [
    "len(s)"
   ]
  },
  {
   "cell_type": "code",
   "execution_count": 42,
   "metadata": {},
   "outputs": [
    {
     "name": "stdout",
     "output_type": "stream",
     "text": [
      "hello Harry\n"
     ]
    }
   ],
   "source": [
    "s2 = s.replace('world', 'Harry')\n",
    "print(s2)"
   ]
  },
  {
   "cell_type": "markdown",
   "metadata": {},
   "source": [
    "### String Indexing\n",
    "Part of the string"
   ]
  },
  {
   "cell_type": "code",
   "execution_count": 43,
   "metadata": {},
   "outputs": [
    {
     "data": {
      "text/plain": [
       "'hello Harry'"
      ]
     },
     "execution_count": 43,
     "metadata": {},
     "output_type": "execute_result"
    }
   ],
   "source": [
    "s2"
   ]
  },
  {
   "cell_type": "code",
   "execution_count": 48,
   "metadata": {},
   "outputs": [
    {
     "data": {
      "text/plain": [
       "'h'"
      ]
     },
     "execution_count": 48,
     "metadata": {},
     "output_type": "execute_result"
    }
   ],
   "source": [
    "s2[0]"
   ]
  },
  {
   "cell_type": "code",
   "execution_count": 53,
   "metadata": {},
   "outputs": [
    {
     "data": {
      "text/plain": [
       "'hell'"
      ]
     },
     "execution_count": 53,
     "metadata": {},
     "output_type": "execute_result"
    }
   ],
   "source": [
    "#Splicing \n",
    "s2[0:4]"
   ]
  },
  {
   "cell_type": "code",
   "execution_count": 57,
   "metadata": {},
   "outputs": [
    {
     "data": {
      "text/plain": [
       "'Harry'"
      ]
     },
     "execution_count": 57,
     "metadata": {},
     "output_type": "execute_result"
    }
   ],
   "source": [
    "s2[6:]"
   ]
  },
  {
   "cell_type": "code",
   "execution_count": 59,
   "metadata": {},
   "outputs": [
    {
     "data": {
      "text/plain": [
       "'y'"
      ]
     },
     "execution_count": 59,
     "metadata": {},
     "output_type": "execute_result"
    }
   ],
   "source": [
    "s2[-1]"
   ]
  },
  {
   "cell_type": "code",
   "execution_count": 60,
   "metadata": {},
   "outputs": [
    {
     "data": {
      "text/plain": [
       "'r'"
      ]
     },
     "execution_count": 60,
     "metadata": {},
     "output_type": "execute_result"
    }
   ],
   "source": [
    "s2[-2]"
   ]
  },
  {
   "cell_type": "code",
   "execution_count": 61,
   "metadata": {},
   "outputs": [
    {
     "data": {
      "text/plain": [
       "'hello Harry'"
      ]
     },
     "execution_count": 61,
     "metadata": {},
     "output_type": "execute_result"
    }
   ],
   "source": [
    "s2"
   ]
  },
  {
   "cell_type": "code",
   "execution_count": null,
   "metadata": {},
   "outputs": [],
   "source": [
    "s2[start : ending : step ]"
   ]
  },
  {
   "cell_type": "code",
   "execution_count": 63,
   "metadata": {},
   "outputs": [
    {
     "data": {
      "text/plain": [
       "'hello Harry'"
      ]
     },
     "execution_count": 63,
     "metadata": {},
     "output_type": "execute_result"
    }
   ],
   "source": [
    "s2"
   ]
  },
  {
   "cell_type": "code",
   "execution_count": 66,
   "metadata": {},
   "outputs": [
    {
     "data": {
      "text/plain": [
       "'hlHr'"
      ]
     },
     "execution_count": 66,
     "metadata": {},
     "output_type": "execute_result"
    }
   ],
   "source": [
    "s2[0:10:3]"
   ]
  },
  {
   "cell_type": "markdown",
   "metadata": {},
   "source": [
    "### Concatenate"
   ]
  },
  {
   "cell_type": "code",
   "execution_count": 68,
   "metadata": {},
   "outputs": [],
   "source": [
    "x = 'hello'\n",
    "y = 'world'"
   ]
  },
  {
   "cell_type": "code",
   "execution_count": 69,
   "metadata": {},
   "outputs": [
    {
     "name": "stdout",
     "output_type": "stream",
     "text": [
      "hello\n"
     ]
    }
   ],
   "source": [
    "print(x)"
   ]
  },
  {
   "cell_type": "code",
   "execution_count": 70,
   "metadata": {},
   "outputs": [
    {
     "name": "stdout",
     "output_type": "stream",
     "text": [
      "world\n"
     ]
    }
   ],
   "source": [
    "print(y)"
   ]
  },
  {
   "cell_type": "code",
   "execution_count": 71,
   "metadata": {},
   "outputs": [
    {
     "data": {
      "text/plain": [
       "'helloworld'"
      ]
     },
     "execution_count": 71,
     "metadata": {},
     "output_type": "execute_result"
    }
   ],
   "source": [
    "x + y"
   ]
  },
  {
   "cell_type": "code",
   "execution_count": 73,
   "metadata": {},
   "outputs": [
    {
     "name": "stdout",
     "output_type": "stream",
     "text": [
      "You rolled a 3\n"
     ]
    }
   ],
   "source": [
    "# Conversion from int to str\n",
    "\n",
    "dice_roll = 3\n",
    "print('You rolled a ' + str(dice_roll))"
   ]
  },
  {
   "cell_type": "code",
   "execution_count": 74,
   "metadata": {},
   "outputs": [
    {
     "name": "stdout",
     "output_type": "stream",
     "text": [
      "You rolled a 3\n"
     ]
    }
   ],
   "source": [
    "print(f'You rolled a {dice_roll}')"
   ]
  },
  {
   "cell_type": "code",
   "execution_count": 75,
   "metadata": {},
   "outputs": [
    {
     "data": {
      "text/plain": [
       "24"
      ]
     },
     "execution_count": 75,
     "metadata": {},
     "output_type": "execute_result"
    }
   ],
   "source": [
    "string = 'thiscanbewhateveryouwant'\n",
    "\n",
    "len(string)\n",
    "\n"
   ]
  },
  {
   "cell_type": "code",
   "execution_count": 77,
   "metadata": {},
   "outputs": [
    {
     "name": "stdout",
     "output_type": "stream",
     "text": [
      "thvvowelwvvowelwvvowelwvvowelwellllscvvowelwvvowelwvvowelwvvowelwellllnbvvowelwvvowelwvvowelwelllwhvvowelwvvowelwvvowelwvvowelwelllltvvowelwvvowelwvvowelwelllvvvowelwvvowelwvvowelwelllryvowelvowelwvvowelwvvowelwvvowelwvvowelwellllnt\n"
     ]
    }
   ],
   "source": [
    "# replace every vowel in a string with the word 'vowel'\n",
    "\n",
    "vowels = ['a','e','i','o','u']\n",
    "\n",
    "for letter in string:\n",
    "    if letter in vowels:\n",
    "        string = string.replace(letter,'vowel')\n",
    "        \n",
    "print(string)\n",
    "        "
   ]
  },
  {
   "cell_type": "markdown",
   "metadata": {},
   "source": [
    "# Lists"
   ]
  },
  {
   "cell_type": "code",
   "execution_count": 1,
   "metadata": {},
   "outputs": [],
   "source": [
    "l = [1,2,3,4]"
   ]
  },
  {
   "cell_type": "code",
   "execution_count": 2,
   "metadata": {},
   "outputs": [
    {
     "data": {
      "text/plain": [
       "list"
      ]
     },
     "execution_count": 2,
     "metadata": {},
     "output_type": "execute_result"
    }
   ],
   "source": [
    "type(l)"
   ]
  },
  {
   "cell_type": "code",
   "execution_count": 4,
   "metadata": {},
   "outputs": [
    {
     "name": "stdout",
     "output_type": "stream",
     "text": [
      "[1, 2, 3, 4]\n"
     ]
    }
   ],
   "source": [
    "print(l)"
   ]
  },
  {
   "cell_type": "code",
   "execution_count": 5,
   "metadata": {},
   "outputs": [],
   "source": [
    "# List of strings, names\n",
    "names = ['Joyce','Faheem','Ryan','Hannah']"
   ]
  },
  {
   "cell_type": "code",
   "execution_count": 6,
   "metadata": {},
   "outputs": [
    {
     "name": "stdout",
     "output_type": "stream",
     "text": [
      "['Joyce', 'Faheem', 'Ryan', 'Hannah']\n"
     ]
    }
   ],
   "source": [
    "print(names)"
   ]
  },
  {
   "cell_type": "code",
   "execution_count": 7,
   "metadata": {},
   "outputs": [],
   "source": [
    "names.append('Steve')"
   ]
  },
  {
   "cell_type": "code",
   "execution_count": 8,
   "metadata": {},
   "outputs": [
    {
     "name": "stdout",
     "output_type": "stream",
     "text": [
      "['Joyce', 'Faheem', 'Ryan', 'Hannah', 'Steve']\n"
     ]
    }
   ],
   "source": [
    "print(names)"
   ]
  },
  {
   "cell_type": "code",
   "execution_count": 24,
   "metadata": {},
   "outputs": [
    {
     "data": {
      "text/plain": [
       "'Joyce'"
      ]
     },
     "execution_count": 24,
     "metadata": {},
     "output_type": "execute_result"
    }
   ],
   "source": [
    "# Lists can be indexed\n",
    "names[0]"
   ]
  },
  {
   "cell_type": "code",
   "execution_count": 26,
   "metadata": {},
   "outputs": [],
   "source": [
    "#Lists don't have to be the same type\n",
    "l = [1,'a',1.0,[1,2,3,4]]"
   ]
  },
  {
   "cell_type": "code",
   "execution_count": 27,
   "metadata": {},
   "outputs": [
    {
     "name": "stdout",
     "output_type": "stream",
     "text": [
      "[1, 'a', 1.0, [1, 2, 3, 4]]\n"
     ]
    }
   ],
   "source": [
    "print(l)"
   ]
  },
  {
   "cell_type": "code",
   "execution_count": 31,
   "metadata": {},
   "outputs": [],
   "source": [
    "#We can create a list of values using the range function"
   ]
  },
  {
   "cell_type": "code",
   "execution_count": null,
   "metadata": {},
   "outputs": [],
   "source": [
    "range()"
   ]
  },
  {
   "cell_type": "code",
   "execution_count": 30,
   "metadata": {},
   "outputs": [
    {
     "data": {
      "text/plain": [
       "[0, 1, 2, 3, 4, 5, 6, 7, 8, 9]"
      ]
     },
     "execution_count": 30,
     "metadata": {},
     "output_type": "execute_result"
    }
   ],
   "source": [
    "list(range(10))"
   ]
  },
  {
   "cell_type": "code",
   "execution_count": 33,
   "metadata": {},
   "outputs": [
    {
     "data": {
      "text/plain": [
       "[10, 12, 14, 16, 18, 20, 22, 24, 26, 28]"
      ]
     },
     "execution_count": 33,
     "metadata": {},
     "output_type": "execute_result"
    }
   ],
   "source": [
    "start = 10\n",
    "stop = 30\n",
    "step = 2\n",
    "list(range(start, stop,step))"
   ]
  },
  {
   "cell_type": "code",
   "execution_count": 37,
   "metadata": {},
   "outputs": [
    {
     "name": "stdout",
     "output_type": "stream",
     "text": [
      "['A', 'd', 'd']\n"
     ]
    }
   ],
   "source": [
    "#Let's create a list from scratch\n",
    "l = []\n",
    "\n",
    "#Add elemetnts\n",
    "l.append('A')\n",
    "l.append('d')\n",
    "l.append('d')\n",
    "\n",
    "print(l)"
   ]
  },
  {
   "cell_type": "code",
   "execution_count": 39,
   "metadata": {},
   "outputs": [
    {
     "data": {
      "text/plain": [
       "['d', 'd']"
      ]
     },
     "execution_count": 39,
     "metadata": {},
     "output_type": "execute_result"
    }
   ],
   "source": [
    "#Reassing a range of values with another list\n",
    "l[1:3]"
   ]
  },
  {
   "cell_type": "code",
   "execution_count": 45,
   "metadata": {},
   "outputs": [
    {
     "data": {
      "text/plain": [
       "[0, 1, 2, 3, 4, 5, 6, 7, 8, 9]"
      ]
     },
     "execution_count": 45,
     "metadata": {},
     "output_type": "execute_result"
    }
   ],
   "source": [
    "list(range(0,10))"
   ]
  },
  {
   "cell_type": "code",
   "execution_count": 46,
   "metadata": {},
   "outputs": [],
   "source": [
    "list1 = l"
   ]
  },
  {
   "cell_type": "code",
   "execution_count": 48,
   "metadata": {},
   "outputs": [
    {
     "name": "stdout",
     "output_type": "stream",
     "text": [
      "['A', 'd', 'd']\n"
     ]
    }
   ],
   "source": [
    "print(list1)"
   ]
  },
  {
   "cell_type": "code",
   "execution_count": 50,
   "metadata": {},
   "outputs": [
    {
     "name": "stdout",
     "output_type": "stream",
     "text": [
      "['A', 'b', 'c']\n"
     ]
    }
   ],
   "source": [
    "list1[1:3] = ['b','c']\n",
    "print(list1)"
   ]
  },
  {
   "cell_type": "code",
   "execution_count": 51,
   "metadata": {},
   "outputs": [],
   "source": [
    "# Insert method"
   ]
  },
  {
   "cell_type": "code",
   "execution_count": 52,
   "metadata": {},
   "outputs": [
    {
     "data": {
      "text/plain": [
       "['Joyce', 'Faheem', 'Ryan', 'Hannah', 'Steve']"
      ]
     },
     "execution_count": 52,
     "metadata": {},
     "output_type": "execute_result"
    }
   ],
   "source": [
    "names"
   ]
  },
  {
   "cell_type": "code",
   "execution_count": 53,
   "metadata": {},
   "outputs": [],
   "source": [
    "names.insert(0, 'Alejandro')"
   ]
  },
  {
   "cell_type": "code",
   "execution_count": 54,
   "metadata": {},
   "outputs": [
    {
     "name": "stdout",
     "output_type": "stream",
     "text": [
      "['Alejandro', 'Joyce', 'Faheem', 'Ryan', 'Hannah', 'Steve']\n"
     ]
    }
   ],
   "source": [
    "print(names)"
   ]
  },
  {
   "cell_type": "code",
   "execution_count": 55,
   "metadata": {},
   "outputs": [],
   "source": [
    "names.insert(1,'Abdul')"
   ]
  },
  {
   "cell_type": "code",
   "execution_count": 56,
   "metadata": {},
   "outputs": [
    {
     "data": {
      "text/plain": [
       "['Alejandro', 'Abdul', 'Joyce', 'Faheem', 'Ryan', 'Hannah', 'Steve']"
      ]
     },
     "execution_count": 56,
     "metadata": {},
     "output_type": "execute_result"
    }
   ],
   "source": [
    "names"
   ]
  },
  {
   "cell_type": "code",
   "execution_count": 57,
   "metadata": {},
   "outputs": [
    {
     "name": "stdout",
     "output_type": "stream",
     "text": [
      "['Alejandro', 'Abdul', 'Joyce', 'Faheem', 'Hannah', 'Steve']\n"
     ]
    }
   ],
   "source": [
    "#What about remove ? \n",
    "names.remove('Ryan')\n",
    "print(names)"
   ]
  },
  {
   "cell_type": "code",
   "execution_count": 65,
   "metadata": {},
   "outputs": [],
   "source": [
    "names.insert(1,'Ryan')"
   ]
  },
  {
   "cell_type": "code",
   "execution_count": 67,
   "metadata": {},
   "outputs": [],
   "source": [
    "names.remove('Ryan')"
   ]
  },
  {
   "cell_type": "code",
   "execution_count": 68,
   "metadata": {},
   "outputs": [
    {
     "data": {
      "text/plain": [
       "['Alejandro',\n",
       " 'Ryan',\n",
       " 'Ryan',\n",
       " 'Ryan',\n",
       " 'Ryan',\n",
       " 'Ryan',\n",
       " 'Ryan',\n",
       " 'Ryan',\n",
       " 'Abdul',\n",
       " 'Joyce',\n",
       " 'Faheem',\n",
       " 'Hannah',\n",
       " 'Steve']"
      ]
     },
     "execution_count": 68,
     "metadata": {},
     "output_type": "execute_result"
    }
   ],
   "source": [
    "names"
   ]
  },
  {
   "cell_type": "code",
   "execution_count": 70,
   "metadata": {},
   "outputs": [
    {
     "name": "stdout",
     "output_type": "stream",
     "text": [
      "['Ryan', 'Ryan', 'Ryan', 'Ryan', 'Ryan', 'Ryan', 'Abdul', 'Joyce', 'Faheem', 'Hannah', 'Steve']\n"
     ]
    }
   ],
   "source": [
    "del names[0]\n",
    "print(names)"
   ]
  },
  {
   "cell_type": "code",
   "execution_count": 71,
   "metadata": {},
   "outputs": [],
   "source": [
    "del names[0:6]"
   ]
  },
  {
   "cell_type": "code",
   "execution_count": 72,
   "metadata": {},
   "outputs": [
    {
     "name": "stdout",
     "output_type": "stream",
     "text": [
      "['Abdul', 'Joyce', 'Faheem', 'Hannah', 'Steve']\n"
     ]
    }
   ],
   "source": [
    "print(names)"
   ]
  },
  {
   "cell_type": "code",
   "execution_count": 81,
   "metadata": {},
   "outputs": [],
   "source": [
    "names.insert(0,'Ryan')"
   ]
  },
  {
   "cell_type": "code",
   "execution_count": 93,
   "metadata": {},
   "outputs": [
    {
     "data": {
      "text/plain": [
       "['Hannah', 'Faheem', 'Abdul', 'Ryan', 'Joyce', 'Steve']"
      ]
     },
     "execution_count": 93,
     "metadata": {},
     "output_type": "execute_result"
    }
   ],
   "source": [
    "list(set(names))"
   ]
  },
  {
   "cell_type": "code",
   "execution_count": 88,
   "metadata": {},
   "outputs": [
    {
     "data": {
      "text/plain": [
       "['Hannah', 'Faheem', 'Abdul', 'Ryan', 'Joyce', 'Steve']"
      ]
     },
     "execution_count": 88,
     "metadata": {},
     "output_type": "execute_result"
    }
   ],
   "source": [
    "list2"
   ]
  },
  {
   "cell_type": "code",
   "execution_count": 94,
   "metadata": {},
   "outputs": [],
   "source": [
    "#Let's look up why a set changes the order of a list and a list change the order of a set"
   ]
  },
  {
   "cell_type": "markdown",
   "metadata": {},
   "source": [
    "A: Python does whatever it wants in that case"
   ]
  },
  {
   "cell_type": "markdown",
   "metadata": {},
   "source": [
    "# Tuples\n",
    "Tuples are similar to lists however they are not mutable which means their values cannot be changed"
   ]
  },
  {
   "cell_type": "code",
   "execution_count": 95,
   "metadata": {},
   "outputs": [],
   "source": [
    "point = (10, 20)"
   ]
  },
  {
   "cell_type": "code",
   "execution_count": 98,
   "metadata": {},
   "outputs": [
    {
     "data": {
      "text/plain": [
       "10"
      ]
     },
     "execution_count": 98,
     "metadata": {},
     "output_type": "execute_result"
    }
   ],
   "source": [
    "point[0]"
   ]
  },
  {
   "cell_type": "code",
   "execution_count": 109,
   "metadata": {},
   "outputs": [
    {
     "name": "stdout",
     "output_type": "stream",
     "text": [
      "X has the value of 10\n",
      "y has the value of 20\n"
     ]
    }
   ],
   "source": [
    "# Unpacking of a tuple\n",
    "x , y= point\n",
    "\n",
    "print(f'X has the value of {x}')\n",
    "print(f'y has the value of {y}')"
   ]
  },
  {
   "cell_type": "code",
   "execution_count": 102,
   "metadata": {},
   "outputs": [
    {
     "name": "stdout",
     "output_type": "stream",
     "text": [
      "x is has the value of 10\n",
      "y has the value of 20\n"
     ]
    }
   ],
   "source": [
    "print('x is has the value of 10')\n",
    "print('y has the value of 20')"
   ]
  },
  {
   "cell_type": "markdown",
   "metadata": {},
   "source": [
    "# Dictionaries\n",
    "\n",
    "Dictionaries are... non-ordered data types and instead of using an index they use of a system of key-value pairs"
   ]
  },
  {
   "cell_type": "code",
   "execution_count": 122,
   "metadata": {},
   "outputs": [],
   "source": [
    "parameters = {'key1': 1.0,\n",
    "              'key2': 2.0,\n",
    "              'key3': 3.0\n",
    "             }"
   ]
  },
  {
   "cell_type": "code",
   "execution_count": 123,
   "metadata": {},
   "outputs": [
    {
     "data": {
      "text/plain": [
       "{'key1': 1.0, 'key2': 2.0, 'key3': 3.0}"
      ]
     },
     "execution_count": 123,
     "metadata": {},
     "output_type": "execute_result"
    }
   ],
   "source": [
    "parameters"
   ]
  },
  {
   "cell_type": "code",
   "execution_count": 129,
   "metadata": {},
   "outputs": [],
   "source": [
    "skanska = {'Julian': ['julian@skanksa.co.uk','01535331251','250%'],\n",
    "          'Nils': ['nils@skanksa.co.uk','214125124','100%']}"
   ]
  },
  {
   "cell_type": "code",
   "execution_count": 130,
   "metadata": {},
   "outputs": [
    {
     "data": {
      "text/plain": [
       "2.0"
      ]
     },
     "execution_count": 130,
     "metadata": {},
     "output_type": "execute_result"
    }
   ],
   "source": [
    "# Value form parameter 2\n",
    "\n",
    "parameters['key2']"
   ]
  },
  {
   "cell_type": "code",
   "execution_count": 133,
   "metadata": {},
   "outputs": [],
   "source": [
    "# Adding a new dictionary entry\n",
    "parameters['key4'] = 4.0"
   ]
  },
  {
   "cell_type": "code",
   "execution_count": 134,
   "metadata": {},
   "outputs": [
    {
     "data": {
      "text/plain": [
       "{'key1': 1.0, 'key2': 2.0, 'key3': 3.0, 'key4': 4.0}"
      ]
     },
     "execution_count": 134,
     "metadata": {},
     "output_type": "execute_result"
    }
   ],
   "source": [
    "parameters"
   ]
  },
  {
   "cell_type": "code",
   "execution_count": 135,
   "metadata": {},
   "outputs": [],
   "source": [
    "# Reassign the value of a key-value pair \n",
    "parameters['key1'] = 'A'\n",
    "parameters['key2'] = 'B'"
   ]
  },
  {
   "cell_type": "code",
   "execution_count": 136,
   "metadata": {},
   "outputs": [
    {
     "name": "stdout",
     "output_type": "stream",
     "text": [
      "{'key1': 'A', 'key2': 'B', 'key3': 3.0, 'key4': 4.0}\n"
     ]
    }
   ],
   "source": [
    "print(parameters)"
   ]
  },
  {
   "cell_type": "code",
   "execution_count": 143,
   "metadata": {},
   "outputs": [],
   "source": [
    "skanska['Julian'][2] = '100%'"
   ]
  },
  {
   "cell_type": "code",
   "execution_count": 145,
   "metadata": {},
   "outputs": [
    {
     "data": {
      "text/plain": [
       "{'Julian': ['julian@skanksa.co.uk', '01535331251', '100%'],\n",
       " 'Nils': ['nils@skanksa.co.uk', '214125124', '100%']}"
      ]
     },
     "execution_count": 145,
     "metadata": {},
     "output_type": "execute_result"
    }
   ],
   "source": [
    "skanska"
   ]
  },
  {
   "cell_type": "code",
   "execution_count": 147,
   "metadata": {},
   "outputs": [
    {
     "name": "stdout",
     "output_type": "stream",
     "text": [
      "251252\n"
     ]
    }
   ],
   "source": [
    "print(val)"
   ]
  },
  {
   "cell_type": "code",
   "execution_count": 150,
   "metadata": {},
   "outputs": [
    {
     "ename": "KeyError",
     "evalue": "'key2'",
     "output_type": "error",
     "traceback": [
      "\u001b[1;31m---------------------------------------------------------------------------\u001b[0m",
      "\u001b[1;31mKeyError\u001b[0m                                  Traceback (most recent call last)",
      "\u001b[1;32m<ipython-input-150-eee9db78bc76>\u001b[0m in \u001b[0;36m<module>\u001b[1;34m\u001b[0m\n\u001b[0;32m      1\u001b[0m \u001b[1;31m#delete a key-value pair completelely\u001b[0m\u001b[1;33m\u001b[0m\u001b[1;33m\u001b[0m\u001b[1;33m\u001b[0m\u001b[0m\n\u001b[1;32m----> 2\u001b[1;33m \u001b[1;32mdel\u001b[0m \u001b[0mparameters\u001b[0m\u001b[1;33m[\u001b[0m\u001b[1;34m'key2'\u001b[0m\u001b[1;33m]\u001b[0m\u001b[1;33m\u001b[0m\u001b[1;33m\u001b[0m\u001b[0m\n\u001b[0m",
      "\u001b[1;31mKeyError\u001b[0m: 'key2'"
     ]
    }
   ],
   "source": [
    "#delete a key-value pair completelely\n",
    "del parameters['key2']"
   ]
  },
  {
   "cell_type": "code",
   "execution_count": 152,
   "metadata": {},
   "outputs": [
    {
     "data": {
      "text/plain": [
       "[('key1', 'A'), ('key3', 3.0), ('key4', 4.0)]"
      ]
     },
     "execution_count": 152,
     "metadata": {},
     "output_type": "execute_result"
    }
   ],
   "source": [
    "# Methods\n",
    "list(parameters.items())\n"
   ]
  },
  {
   "cell_type": "code",
   "execution_count": 154,
   "metadata": {},
   "outputs": [
    {
     "data": {
      "text/plain": [
       "dict_keys(['key1', 'key3', 'key4'])"
      ]
     },
     "execution_count": 154,
     "metadata": {},
     "output_type": "execute_result"
    }
   ],
   "source": [
    "parameters.keys()"
   ]
  },
  {
   "cell_type": "code",
   "execution_count": 155,
   "metadata": {},
   "outputs": [
    {
     "data": {
      "text/plain": [
       "dict_values(['A', 3.0, 4.0])"
      ]
     },
     "execution_count": 155,
     "metadata": {},
     "output_type": "execute_result"
    }
   ],
   "source": [
    "parameters.values()"
   ]
  },
  {
   "cell_type": "markdown",
   "metadata": {},
   "source": [
    "# Importing packages"
   ]
  },
  {
   "cell_type": "code",
   "execution_count": 157,
   "metadata": {},
   "outputs": [],
   "source": [
    "import math"
   ]
  },
  {
   "cell_type": "code",
   "execution_count": 160,
   "metadata": {},
   "outputs": [
    {
     "data": {
      "text/plain": [
       "3.141592653589793"
      ]
     },
     "execution_count": 160,
     "metadata": {},
     "output_type": "execute_result"
    }
   ],
   "source": [
    "math.pi"
   ]
  },
  {
   "cell_type": "code",
   "execution_count": 163,
   "metadata": {},
   "outputs": [],
   "source": [
    "from math import *"
   ]
  },
  {
   "cell_type": "code",
   "execution_count": 164,
   "metadata": {},
   "outputs": [
    {
     "data": {
      "text/plain": [
       "3.141592653589793"
      ]
     },
     "execution_count": 164,
     "metadata": {},
     "output_type": "execute_result"
    }
   ],
   "source": [
    "pi"
   ]
  },
  {
   "cell_type": "markdown",
   "metadata": {},
   "source": [
    "# Let's practice\n"
   ]
  },
  {
   "cell_type": "markdown",
   "metadata": {},
   "source": [
    "### What is the difference between a \"mutable\" and an \"immutable\" object?"
   ]
  },
  {
   "cell_type": "code",
   "execution_count": null,
   "metadata": {},
   "outputs": [],
   "source": [
    "# A: The difference is .... "
   ]
  },
  {
   "cell_type": "code",
   "execution_count": 172,
   "metadata": {},
   "outputs": [],
   "source": [
    "student_names = ['Jamie','Oliver','Josh','Ryan','Rob','Eli','Shubi','Jon','Joyce','Julian','Phil']"
   ]
  },
  {
   "cell_type": "markdown",
   "metadata": {},
   "source": [
    "### 4) Print the names of the first and last students on the list."
   ]
  },
  {
   "cell_type": "code",
   "execution_count": 173,
   "metadata": {},
   "outputs": [
    {
     "name": "stdout",
     "output_type": "stream",
     "text": [
      "Jamie\n",
      "Phil\n"
     ]
    }
   ],
   "source": [
    "# A: \n",
    "print(student_names[0])\n",
    "print(student_names[-1])"
   ]
  },
  {
   "cell_type": "markdown",
   "metadata": {},
   "source": [
    "### 5) Print the first five names in the `student_names` list."
   ]
  },
  {
   "cell_type": "code",
   "execution_count": 174,
   "metadata": {},
   "outputs": [
    {
     "name": "stdout",
     "output_type": "stream",
     "text": [
      "['Jamie', 'Oliver', 'Josh', 'Ryan', 'Rob']\n"
     ]
    }
   ],
   "source": [
    "#A:\n",
    "print(student_names[0:5])"
   ]
  },
  {
   "cell_type": "markdown",
   "metadata": {},
   "source": [
    "### 6) Combine the ninth and 10th student names into a single string, separated by a space. Assign that string to a variable.m"
   ]
  },
  {
   "cell_type": "code",
   "execution_count": 179,
   "metadata": {},
   "outputs": [
    {
     "data": {
      "text/plain": [
       "'Joyce Julian'"
      ]
     },
     "execution_count": 179,
     "metadata": {},
     "output_type": "execute_result"
    }
   ],
   "source": [
    "#A:\n",
    "m = student_names[8] + ' ' + student_names[9]\n",
    "m"
   ]
  },
  {
   "cell_type": "markdown",
   "metadata": {},
   "source": [
    "### 7) Append an animal to the list of animals."
   ]
  },
  {
   "cell_type": "code",
   "execution_count": 195,
   "metadata": {},
   "outputs": [],
   "source": [
    "animals = ['duck','rat','boar','slug','mamoth','gazelle']"
   ]
  },
  {
   "cell_type": "code",
   "execution_count": 180,
   "metadata": {},
   "outputs": [],
   "source": [
    "#A:\n",
    "animals.append('cat')"
   ]
  },
  {
   "cell_type": "markdown",
   "metadata": {},
   "source": [
    "### 8) Print the length of the `animals` list."
   ]
  },
  {
   "cell_type": "code",
   "execution_count": 181,
   "metadata": {},
   "outputs": [
    {
     "data": {
      "text/plain": [
       "7"
      ]
     },
     "execution_count": 181,
     "metadata": {},
     "output_type": "execute_result"
    }
   ],
   "source": [
    "#A:\n",
    "len(animals)"
   ]
  },
  {
   "cell_type": "markdown",
   "metadata": {},
   "source": [
    "### 9) Divide the length of the fifth animal by the second."
   ]
  },
  {
   "cell_type": "code",
   "execution_count": 183,
   "metadata": {},
   "outputs": [
    {
     "data": {
      "text/plain": [
       "2.0"
      ]
     },
     "execution_count": 183,
     "metadata": {},
     "output_type": "execute_result"
    }
   ],
   "source": [
    "#A:\n",
    "len(animals[4])/len(animals[1])"
   ]
  },
  {
   "cell_type": "markdown",
   "metadata": {},
   "source": [
    "### 10) Perform the same division, but ensure the output is a decimal number."
   ]
  },
  {
   "cell_type": "code",
   "execution_count": 184,
   "metadata": {},
   "outputs": [
    {
     "data": {
      "text/plain": [
       "2.0"
      ]
     },
     "execution_count": 184,
     "metadata": {},
     "output_type": "execute_result"
    }
   ],
   "source": [
    "#A: \n",
    "float(len(animals[4])/len(animals[1]))"
   ]
  },
  {
   "cell_type": "markdown",
   "metadata": {},
   "source": [
    "### 11) Demonstrate two different ways to combine the `animals` list \n"
   ]
  },
  {
   "cell_type": "code",
   "execution_count": 186,
   "metadata": {},
   "outputs": [],
   "source": [
    "#A:\n",
    "numbers = [0., 0.1, 1., 10., 100., 1000.]"
   ]
  },
  {
   "cell_type": "code",
   "execution_count": 192,
   "metadata": {},
   "outputs": [
    {
     "name": "stdout",
     "output_type": "stream",
     "text": [
      "[0.0, 0.1, 1.0, 10.0, 100.0, 1000.0, 'duck', 'rat', 'boar', 'slug', 'mamoth', 'gazelle', 'cat']\n"
     ]
    }
   ],
   "source": [
    "aninum = numbers + animals\n",
    "print(aninum)"
   ]
  },
  {
   "cell_type": "code",
   "execution_count": null,
   "metadata": {},
   "outputs": [],
   "source": []
  },
  {
   "cell_type": "markdown",
   "metadata": {},
   "source": [
    "### 12) Remove `'kiefer'` from the list and insert your own name in its place.\n"
   ]
  },
  {
   "cell_type": "code",
   "execution_count": 196,
   "metadata": {},
   "outputs": [],
   "source": [
    "#A:\n",
    "names = ['doug', 'billy', 'kiefer', 'kian', 'sam']\n",
    "\n",
    "names.remove('kiefer')\n",
    "names.insert(2,'Joyce')"
   ]
  },
  {
   "cell_type": "markdown",
   "metadata": {},
   "source": [
    "### 13) Try to sort the following list using `.sort()`. What happens?\n"
   ]
  },
  {
   "cell_type": "code",
   "execution_count": 187,
   "metadata": {},
   "outputs": [],
   "source": [
    "mix = [['billy', 'sam'], {'key':'value'}, 12.999, 12, 'flower', 'a', (1, 2, 3)]\n"
   ]
  },
  {
   "cell_type": "code",
   "execution_count": 197,
   "metadata": {},
   "outputs": [
    {
     "ename": "TypeError",
     "evalue": "'<' not supported between instances of 'dict' and 'list'",
     "output_type": "error",
     "traceback": [
      "\u001b[1;31m---------------------------------------------------------------------------\u001b[0m",
      "\u001b[1;31mTypeError\u001b[0m                                 Traceback (most recent call last)",
      "\u001b[1;32m<ipython-input-197-1edb5b1b6395>\u001b[0m in \u001b[0;36m<module>\u001b[1;34m\u001b[0m\n\u001b[0;32m      1\u001b[0m \u001b[1;31m#A:\u001b[0m\u001b[1;33m\u001b[0m\u001b[1;33m\u001b[0m\u001b[1;33m\u001b[0m\u001b[0m\n\u001b[1;32m----> 2\u001b[1;33m \u001b[0mmix\u001b[0m\u001b[1;33m.\u001b[0m\u001b[0msort\u001b[0m\u001b[1;33m(\u001b[0m\u001b[1;33m)\u001b[0m\u001b[1;33m\u001b[0m\u001b[1;33m\u001b[0m\u001b[0m\n\u001b[0m",
      "\u001b[1;31mTypeError\u001b[0m: '<' not supported between instances of 'dict' and 'list'"
     ]
    }
   ],
   "source": [
    "#A:\n",
    "mix.sort()"
   ]
  },
  {
   "cell_type": "markdown",
   "metadata": {},
   "source": [
    "We cannot sort a list with different data types"
   ]
  },
  {
   "cell_type": "markdown",
   "metadata": {},
   "source": [
    "### 14) Manually check whether or not one element of `mix` is greater than another\n"
   ]
  },
  {
   "cell_type": "code",
   "execution_count": 198,
   "metadata": {},
   "outputs": [
    {
     "ename": "TypeError",
     "evalue": "'>' not supported between instances of 'list' and 'dict'",
     "output_type": "error",
     "traceback": [
      "\u001b[1;31m---------------------------------------------------------------------------\u001b[0m",
      "\u001b[1;31mTypeError\u001b[0m                                 Traceback (most recent call last)",
      "\u001b[1;32m<ipython-input-198-d0c758e94484>\u001b[0m in \u001b[0;36m<module>\u001b[1;34m\u001b[0m\n\u001b[0;32m      1\u001b[0m \u001b[1;31m#A:\u001b[0m\u001b[1;33m\u001b[0m\u001b[1;33m\u001b[0m\u001b[1;33m\u001b[0m\u001b[0m\n\u001b[1;32m----> 2\u001b[1;33m \u001b[0mmix\u001b[0m\u001b[1;33m[\u001b[0m\u001b[1;36m0\u001b[0m\u001b[1;33m]\u001b[0m\u001b[1;33m>\u001b[0m\u001b[0mmix\u001b[0m\u001b[1;33m[\u001b[0m\u001b[1;36m1\u001b[0m\u001b[1;33m]\u001b[0m\u001b[1;33m\u001b[0m\u001b[1;33m\u001b[0m\u001b[0m\n\u001b[0m",
      "\u001b[1;31mTypeError\u001b[0m: '>' not supported between instances of 'list' and 'dict'"
     ]
    }
   ],
   "source": [
    "#A:\n",
    "mix[0]>mix[1]"
   ]
  },
  {
   "cell_type": "code",
   "execution_count": 199,
   "metadata": {},
   "outputs": [
    {
     "data": {
      "text/plain": [
       "True"
      ]
     },
     "execution_count": 199,
     "metadata": {},
     "output_type": "execute_result"
    }
   ],
   "source": [
    "mix[2] > mix[3]"
   ]
  },
  {
   "cell_type": "markdown",
   "metadata": {},
   "source": [
    "### 15) Find the index of `'a'` in the list.\n"
   ]
  },
  {
   "cell_type": "code",
   "execution_count": 200,
   "metadata": {},
   "outputs": [
    {
     "data": {
      "text/plain": [
       "5"
      ]
     },
     "execution_count": 200,
     "metadata": {},
     "output_type": "execute_result"
    }
   ],
   "source": [
    "#A:\n",
    "mix.index('a')"
   ]
  },
  {
   "cell_type": "markdown",
   "metadata": {},
   "source": [
    "### 16) Reverse the `mix` list.\n"
   ]
  },
  {
   "cell_type": "code",
   "execution_count": 201,
   "metadata": {},
   "outputs": [],
   "source": [
    "mix.reverse()"
   ]
  },
  {
   "cell_type": "code",
   "execution_count": 202,
   "metadata": {},
   "outputs": [
    {
     "data": {
      "text/plain": [
       "[(1, 2, 3), 'a', 'flower', 12, 12.999, {'key': 'value'}, ['billy', 'sam']]"
      ]
     },
     "execution_count": 202,
     "metadata": {},
     "output_type": "execute_result"
    }
   ],
   "source": [
    "mix"
   ]
  },
  {
   "cell_type": "markdown",
   "metadata": {},
   "source": [
    "### 17) Remove the last element of `mix`  and assign it to a variable.\n"
   ]
  },
  {
   "cell_type": "code",
   "execution_count": 203,
   "metadata": {},
   "outputs": [],
   "source": [
    "new_item = mix.pop()"
   ]
  },
  {
   "cell_type": "markdown",
   "metadata": {},
   "source": [
    "### 18) Count the number of times `0` appears in the following list.\n",
    "\n"
   ]
  },
  {
   "cell_type": "code",
   "execution_count": 205,
   "metadata": {},
   "outputs": [],
   "source": [
    "binary = [0,1,1,0,1,0,1,1,1,1,0,0,1,0,0,1,0,1,1,0,0,1,1,0,1,1,0,0,0,1,1,1,0,1,0,1]\n",
    "\n"
   ]
  },
  {
   "cell_type": "code",
   "execution_count": 206,
   "metadata": {},
   "outputs": [
    {
     "data": {
      "text/plain": [
       "16"
      ]
     },
     "execution_count": 206,
     "metadata": {},
     "output_type": "execute_result"
    }
   ],
   "source": [
    "binary.count(0)"
   ]
  },
  {
   "cell_type": "markdown",
   "metadata": {},
   "source": [
    "### 19) Create an SF (San Francisco) zip code dictionary.\n",
    "With the following key-value pairs:\n",
    "\n",
    "    'sunset':94122\n",
    "    'presidio':94129\n",
    "    'soma':94105\n",
    "    'marina':94123\n",
    "\n"
   ]
  },
  {
   "cell_type": "code",
   "execution_count": 212,
   "metadata": {},
   "outputs": [],
   "source": [
    "sf = {'sunset':94122,\n",
    "     'presidio':94129,\n",
    "    'soma':94105,\n",
    "    'marina':94123\n",
    "     }"
   ]
  },
  {
   "cell_type": "markdown",
   "metadata": {},
   "source": [
    "### 20) Get the zip code for `'soma'` and assign it to a variable\n"
   ]
  },
  {
   "cell_type": "code",
   "execution_count": 213,
   "metadata": {},
   "outputs": [
    {
     "name": "stdout",
     "output_type": "stream",
     "text": [
      "94105\n"
     ]
    }
   ],
   "source": [
    "soma_zip = sf['soma']\n",
    "print(soma_zip)"
   ]
  },
  {
   "cell_type": "markdown",
   "metadata": {},
   "source": [
    "### 21) Get the keys out of the dictionary."
   ]
  },
  {
   "cell_type": "code",
   "execution_count": 214,
   "metadata": {},
   "outputs": [
    {
     "data": {
      "text/plain": [
       "dict_keys(['sunset', 'presidio', 'soma', 'marina'])"
      ]
     },
     "execution_count": 214,
     "metadata": {},
     "output_type": "execute_result"
    }
   ],
   "source": [
    "#A:\n",
    "sf.keys()"
   ]
  },
  {
   "cell_type": "markdown",
   "metadata": {},
   "source": [
    "### 22) Get the key-value pairs out of the dictionary as a list of tuples."
   ]
  },
  {
   "cell_type": "code",
   "execution_count": 216,
   "metadata": {},
   "outputs": [
    {
     "data": {
      "text/plain": [
       "[('sunset', 94122), ('presidio', 94129), ('soma', 94105), ('marina', 94123)]"
      ]
     },
     "execution_count": 216,
     "metadata": {},
     "output_type": "execute_result"
    }
   ],
   "source": [
    "#A:\n",
    "list(sf.items())"
   ]
  },
  {
   "cell_type": "markdown",
   "metadata": {},
   "source": [
    "### 23) Add The Castro to the dictionary with the zip code 94114."
   ]
  },
  {
   "cell_type": "code",
   "execution_count": 217,
   "metadata": {},
   "outputs": [],
   "source": [
    "#A:\n",
    "sf['Castro'] = 94114"
   ]
  },
  {
   "cell_type": "code",
   "execution_count": 218,
   "metadata": {},
   "outputs": [
    {
     "data": {
      "text/plain": [
       "{'sunset': 94122,\n",
       " 'presidio': 94129,\n",
       " 'soma': 94105,\n",
       " 'marina': 94123,\n",
       " 'Castro': 94114}"
      ]
     },
     "execution_count": 218,
     "metadata": {},
     "output_type": "execute_result"
    }
   ],
   "source": [
    "sf"
   ]
  },
  {
   "cell_type": "markdown",
   "metadata": {},
   "source": [
    "### 24) Combine the following smaller dictionary of districts with the SF zip code dictionary."
   ]
  },
  {
   "cell_type": "code",
   "execution_count": 190,
   "metadata": {},
   "outputs": [],
   "source": [
    "#A:\n",
    "small = {'outer_richmond':94121, 'dogpatch':94107}"
   ]
  },
  {
   "cell_type": "code",
   "execution_count": 219,
   "metadata": {},
   "outputs": [],
   "source": [
    "# One way with kwargs\n",
    "sf2 = dict(sf,**small)"
   ]
  },
  {
   "cell_type": "code",
   "execution_count": 223,
   "metadata": {},
   "outputs": [],
   "source": [
    "#Second way with methods\n",
    "sf.update(small)"
   ]
  },
  {
   "cell_type": "markdown",
   "metadata": {},
   "source": [
    "### 25) Remove the `'sunset'` zip code and assign it to a variable."
   ]
  },
  {
   "cell_type": "code",
   "execution_count": 224,
   "metadata": {},
   "outputs": [],
   "source": [
    "#A:\n",
    "var = sf.pop('sunset')"
   ]
  },
  {
   "cell_type": "code",
   "execution_count": 225,
   "metadata": {},
   "outputs": [
    {
     "data": {
      "text/plain": [
       "94122"
      ]
     },
     "execution_count": 225,
     "metadata": {},
     "output_type": "execute_result"
    }
   ],
   "source": [
    "var"
   ]
  },
  {
   "cell_type": "markdown",
   "metadata": {},
   "source": [
    "### 26) Check if the `'dogpatch'` is in the dictionary."
   ]
  },
  {
   "cell_type": "code",
   "execution_count": 226,
   "metadata": {},
   "outputs": [
    {
     "data": {
      "text/plain": [
       "True"
      ]
     },
     "execution_count": 226,
     "metadata": {},
     "output_type": "execute_result"
    }
   ],
   "source": [
    "#A:\n",
    "'dogpatch' in sf"
   ]
  },
  {
   "cell_type": "markdown",
   "metadata": {},
   "source": [
    "# Control Flow\n",
    "In python indendation matters"
   ]
  },
  {
   "cell_type": "code",
   "execution_count": 2,
   "metadata": {},
   "outputs": [
    {
     "name": "stdout",
     "output_type": "stream",
     "text": [
      "The integer 1 is equal to the integer 1\n",
      "Is this line going to be executed? \n"
     ]
    }
   ],
   "source": [
    "if 1==1:\n",
    "    print('The integer 1 is equal to the integer 1')\n",
    "    print('Is this line going to be executed? ')"
   ]
  },
  {
   "cell_type": "code",
   "execution_count": 3,
   "metadata": {},
   "outputs": [
    {
     "name": "stdout",
     "output_type": "stream",
     "text": [
      " Will this be executed ? \n"
     ]
    }
   ],
   "source": [
    "if 'one'=='two':\n",
    "    print('The string one is equal to the string two')\n",
    "\n",
    "print(' Will this be executed ? ')"
   ]
  },
  {
   "cell_type": "code",
   "execution_count": 5,
   "metadata": {},
   "outputs": [
    {
     "name": "stdout",
     "output_type": "stream",
     "text": [
      "50 > 30 \n",
      "----\n",
      "These two lines are not indented, will they run? \n"
     ]
    }
   ],
   "source": [
    "if 50<30:\n",
    "    print('50 <30')\n",
    "else:\n",
    "    print('50 > 30 ')\n",
    "\n",
    "print('----')\n",
    "print('These two lines are not indented, will they run? ')"
   ]
  },
  {
   "cell_type": "code",
   "execution_count": 7,
   "metadata": {},
   "outputs": [
    {
     "name": "stdout",
     "output_type": "stream",
     "text": [
      "Your health is low, go to the doctor\n",
      "---\n",
      "What will be executed ?\n"
     ]
    }
   ],
   "source": [
    "health = 39\n",
    "\n",
    "if health > 70:\n",
    "    print('You are in great health!')\n",
    "elif health > 40:\n",
    "    print('Your health is average')\n",
    "else:\n",
    "    print('Your health is low, go to the doctor')\n",
    "\n",
    "print('---')\n",
    "print('What will be executed ?')"
   ]
  },
  {
   "cell_type": "code",
   "execution_count": 8,
   "metadata": {},
   "outputs": [
    {
     "name": "stdout",
     "output_type": "stream",
     "text": [
      "Give me a variable50\n"
     ]
    }
   ],
   "source": [
    "var = input('Give me a variable')"
   ]
  },
  {
   "cell_type": "code",
   "execution_count": 9,
   "metadata": {},
   "outputs": [
    {
     "name": "stdout",
     "output_type": "stream",
     "text": [
      "50\n"
     ]
    }
   ],
   "source": [
    "print(var)"
   ]
  },
  {
   "cell_type": "markdown",
   "metadata": {},
   "source": [
    "### 1) Write an `if… else` statement to check whether or not the suitcase weighs more than 50 pounds."
   ]
  },
  {
   "cell_type": "code",
   "execution_count": 6,
   "metadata": {},
   "outputs": [
    {
     "name": "stdout",
     "output_type": "stream",
     "text": [
      "How many pounds does your suitcase weigh?70\n"
     ]
    }
   ],
   "source": [
    "#A:\n",
    "suitcase = float(input('How many pounds does your suitcase weigh?'))"
   ]
  },
  {
   "cell_type": "code",
   "execution_count": 7,
   "metadata": {},
   "outputs": [
    {
     "data": {
      "text/plain": [
       "70.0"
      ]
     },
     "execution_count": 7,
     "metadata": {},
     "output_type": "execute_result"
    }
   ],
   "source": [
    "suitcase"
   ]
  },
  {
   "cell_type": "code",
   "execution_count": 8,
   "metadata": {},
   "outputs": [
    {
     "name": "stdout",
     "output_type": "stream",
     "text": [
      "Your suitcase is heavier than 50 pounds\n"
     ]
    }
   ],
   "source": [
    "if suitcase > 50:\n",
    "    print('Your suitcase is heavier than 50 pounds')\n",
    "else:\n",
    "    print('Your suticase is lower than 50 pounds')\n",
    "    \n",
    "    "
   ]
  },
  {
   "cell_type": "markdown",
   "metadata": {},
   "source": [
    "### 2) Write an `if… else` statement for multiple conditions.\n",
    "\n",
    "Print out these recommendations based on the weather conditions:\n",
    "\n",
    "- 1) The temperature is higher than 60 degrees and it is raining: Bring an umbrella.\n",
    "- 2) The temperature is lower than or equal to 60 degrees and it is raining: Bring an umbrella and a jacket.\n",
    "- 3) The temperature is higher than 60 degrees and the sun is shining: Wear a T-shirt.\n",
    "- 4) The temperature is lower than or equal to 60 degrees and the sun is shining: Bring a jacket."
   ]
  },
  {
   "cell_type": "code",
   "execution_count": 11,
   "metadata": {},
   "outputs": [
    {
     "name": "stdout",
     "output_type": "stream",
     "text": [
      "What is the temperature?59\n",
      "Is it raining?yes\n"
     ]
    }
   ],
   "source": [
    "#A:\n",
    "\n",
    "temperature = float(input('What is the temperature?'))\n",
    "rain = input('Is it raining? ')"
   ]
  },
  {
   "cell_type": "code",
   "execution_count": 12,
   "metadata": {},
   "outputs": [
    {
     "name": "stdout",
     "output_type": "stream",
     "text": [
      "Bring a jacket\n"
     ]
    }
   ],
   "source": [
    "if temperature > 60 and rain=='Yes':\n",
    "    print('Bring and umbrella')\n",
    "elif temperature <= 60 and rain =='Yes':\n",
    "    print('Bring and umbrella and a jacket')\n",
    "elif temperature > 60 and rain == 'No':\n",
    "    print('Wear a T-Shirt')\n",
    "else:\n",
    "    print('Bring a jacket')"
   ]
  },
  {
   "cell_type": "markdown",
   "metadata": {},
   "source": [
    "# Section 2: For loops"
   ]
  },
  {
   "cell_type": "code",
   "execution_count": 22,
   "metadata": {},
   "outputs": [],
   "source": [
    "names = ['Abdul','Nils','Jamie','Faheem','Shubi']"
   ]
  },
  {
   "cell_type": "code",
   "execution_count": 17,
   "metadata": {},
   "outputs": [
    {
     "name": "stdout",
     "output_type": "stream",
     "text": [
      "Abdul is awesome\n",
      "Nils is awesome\n",
      "Jamie is awesome\n"
     ]
    }
   ],
   "source": [
    "print(names[0] + ' ' +'is awesome')\n",
    "print(names[1] + ' ' +'is awesome')\n",
    "print(names[2] + ' ' +'is awesome')"
   ]
  },
  {
   "cell_type": "code",
   "execution_count": 26,
   "metadata": {},
   "outputs": [
    {
     "name": "stdout",
     "output_type": "stream",
     "text": [
      "Abdul is awesome\n",
      "Nils is awesome\n",
      "Jamie is awesome\n",
      "Faheem is awesome\n",
      "Shubi is awesome\n"
     ]
    }
   ],
   "source": [
    "for name in names:\n",
    "    print(f'{name} is awesome')"
   ]
  },
  {
   "cell_type": "code",
   "execution_count": 27,
   "metadata": {},
   "outputs": [
    {
     "data": {
      "text/plain": [
       "[0, 1, 2, 3, 4, 5, 6, 7, 8, 9]"
      ]
     },
     "execution_count": 27,
     "metadata": {},
     "output_type": "execute_result"
    }
   ],
   "source": [
    "list(range(10))"
   ]
  },
  {
   "cell_type": "code",
   "execution_count": 29,
   "metadata": {},
   "outputs": [
    {
     "name": "stdout",
     "output_type": "stream",
     "text": [
      "0\n",
      "1\n",
      "2\n",
      "3\n",
      "4\n",
      "5\n",
      "6\n",
      "7\n",
      "8\n",
      "9\n"
     ]
    }
   ],
   "source": [
    "for i in range(0, 10):\n",
    "    print(i)"
   ]
  },
  {
   "cell_type": "code",
   "execution_count": 31,
   "metadata": {},
   "outputs": [
    {
     "name": "stdout",
     "output_type": "stream",
     "text": [
      "1\n",
      "3\n",
      "5\n"
     ]
    }
   ],
   "source": [
    "for i in range(1, 6, 2):\n",
    "    print(i)"
   ]
  },
  {
   "cell_type": "code",
   "execution_count": 39,
   "metadata": {},
   "outputs": [
    {
     "name": "stdout",
     "output_type": "stream",
     "text": [
      "random_word\n",
      "random_word\n",
      "random_word\n",
      "random_word\n",
      "random_word\n"
     ]
    }
   ],
   "source": [
    "for i in range(len(\"Don't\")):\n",
    "    print('random_word')"
   ]
  },
  {
   "cell_type": "markdown",
   "metadata": {},
   "source": [
    "### 3) Write a `for` loop that iterates from number 1 to number 15.\n"
   ]
  },
  {
   "cell_type": "code",
   "execution_count": 40,
   "metadata": {},
   "outputs": [
    {
     "name": "stdout",
     "output_type": "stream",
     "text": [
      "1\n",
      "2\n",
      "3\n",
      "4\n",
      "5\n",
      "6\n",
      "7\n",
      "8\n",
      "9\n",
      "10\n",
      "11\n",
      "12\n",
      "13\n",
      "14\n",
      "15\n"
     ]
    }
   ],
   "source": [
    "for i in range(1, 15+1):\n",
    "    print(i)"
   ]
  },
  {
   "cell_type": "markdown",
   "metadata": {},
   "source": [
    "### 4) Iterate from 1 to 15, printing whether the number is odd or even.\n",
    "Hint: You can use the modulo operator '%'\n",
    "The remainder of an even number divided by 2 is 0"
   ]
  },
  {
   "cell_type": "code",
   "execution_count": 50,
   "metadata": {},
   "outputs": [
    {
     "name": "stdout",
     "output_type": "stream",
     "text": [
      "1 is odd\n",
      "2 is even\n",
      "3 is odd\n",
      "4 is even\n",
      "5 is odd\n",
      "6 is even\n",
      "7 is odd\n",
      "8 is even\n",
      "9 is odd\n",
      "10 is even\n",
      "11 is odd\n",
      "12 is even\n",
      "13 is odd\n",
      "14 is even\n",
      "15 is odd\n"
     ]
    }
   ],
   "source": [
    "for i in range(1,16):\n",
    "    if i % 2 == 0:\n",
    "        print(f'{i} is even')\n",
    "    else:\n",
    "        print(f'{i} is odd')"
   ]
  },
  {
   "cell_type": "markdown",
   "metadata": {},
   "source": [
    "### 5) Iterate from 1 to 30 using the following instructions:\n",
    "\n",
    "- 1) If a number is divisible by 3, print \"fizz.\"\n",
    "- 2) If a number is divisible by 5, print \"buzz.\" \n",
    "- 3) If a number is both divisible by 3 and by 5, print \"fizzbuzz.\"\n",
    "- 4) Otherwise, print just the number."
   ]
  },
  {
   "cell_type": "code",
   "execution_count": 47,
   "metadata": {},
   "outputs": [
    {
     "name": "stdout",
     "output_type": "stream",
     "text": [
      "1\n",
      "2\n",
      "3 fizz\n",
      "4\n",
      "5 buzz\n",
      "6 fizz\n",
      "7\n",
      "8\n",
      "9 fizz\n",
      "10 buzz\n",
      "11\n",
      "12 fizz\n",
      "13\n",
      "14\n",
      "15 fizzbuzz\n",
      "16\n",
      "17\n",
      "18 fizz\n",
      "19\n",
      "20 buzz\n",
      "21 fizz\n",
      "22\n",
      "23\n",
      "24 fizz\n",
      "25 buzz\n",
      "26\n",
      "27 fizz\n",
      "28\n",
      "29\n",
      "30 fizzbuzz\n"
     ]
    }
   ],
   "source": [
    "for i in range(1,31):\n",
    "    if i % 15 == 0:\n",
    "        print(f'{i} fizzbuzz')\n",
    "    elif i % 3 == 0:\n",
    "        print(f'{i} fizz')\n",
    "    elif i % 5 == 0:\n",
    "        print(f'{i} buzz')\n",
    "    else:\n",
    "        print(i)"
   ]
  },
  {
   "cell_type": "markdown",
   "metadata": {},
   "source": [
    "### 6) Iterate through the following list of animals and print each one in all caps."
   ]
  },
  {
   "cell_type": "code",
   "execution_count": 2,
   "metadata": {},
   "outputs": [],
   "source": [
    "animals = ['duck', 'rat', 'boar', 'slug', 'mammoth', 'gazelle']"
   ]
  },
  {
   "cell_type": "code",
   "execution_count": 4,
   "metadata": {},
   "outputs": [
    {
     "name": "stdout",
     "output_type": "stream",
     "text": [
      "DUCK\n",
      "RAT\n",
      "BOAR\n",
      "SLUG\n",
      "MAMMOTH\n",
      "GAZELLE\n"
     ]
    }
   ],
   "source": [
    "for animal in animals:\n",
    "    print(animal.upper())"
   ]
  },
  {
   "cell_type": "markdown",
   "metadata": {},
   "source": [
    "### 7) Iterate through the animals list. Capitalize the first letter and append the modified animals to a new list.\n",
    "\n",
    "title() , where words contain apostrophes, the letter after the apostrophe will be capitalised. str. title() capitalises every word of a sentence, whereas str. capitalize() capitalises just the first word of the entire string"
   ]
  },
  {
   "cell_type": "code",
   "execution_count": 6,
   "metadata": {},
   "outputs": [
    {
     "name": "stdout",
     "output_type": "stream",
     "text": [
      "['Duck']\n",
      "['Duck', 'Rat']\n",
      "['Duck', 'Rat', 'Boar']\n",
      "['Duck', 'Rat', 'Boar', 'Slug']\n",
      "['Duck', 'Rat', 'Boar', 'Slug', 'Mammoth']\n",
      "['Duck', 'Rat', 'Boar', 'Slug', 'Mammoth', 'Gazelle']\n"
     ]
    }
   ],
   "source": [
    "mod_animals = []\n",
    "\n",
    "for animal in animals: \n",
    "    mod_animals.append(animal.title())\n",
    "    print(mod_animals)\n"
   ]
  },
  {
   "cell_type": "markdown",
   "metadata": {},
   "source": [
    "\n",
    "### 8) Iterate through the animals. Print out the animal name and the number of vowels in the name.\n",
    "Hint: You may need to create a variable of vowels for comparison."
   ]
  },
  {
   "cell_type": "code",
   "execution_count": 12,
   "metadata": {},
   "outputs": [
    {
     "name": "stdout",
     "output_type": "stream",
     "text": [
      "duck has 1 vowel(s)\n",
      "rat has 1 vowel(s)\n",
      "boar has 2 vowel(s)\n",
      "slug has 1 vowel(s)\n",
      "mammoth has 2 vowel(s)\n",
      "gazelle has 3 vowel(s)\n"
     ]
    }
   ],
   "source": [
    "vowels = 'aeiou'\n",
    "\n",
    "for animal in animals:\n",
    "    counter = 0\n",
    "    for letter in animal:\n",
    "        if letter in vowels:\n",
    "            counter += 1\n",
    "    print(f'{animal} has {counter} vowel(s)')"
   ]
  },
  {
   "cell_type": "markdown",
   "metadata": {},
   "source": [
    "# Try/ Except"
   ]
  },
  {
   "cell_type": "markdown",
   "metadata": {},
   "source": [
    "A way of bypassing errors. "
   ]
  },
  {
   "cell_type": "code",
   "execution_count": 13,
   "metadata": {},
   "outputs": [
    {
     "ename": "ZeroDivisionError",
     "evalue": "division by zero",
     "output_type": "error",
     "traceback": [
      "\u001b[1;31m---------------------------------------------------------------------------\u001b[0m",
      "\u001b[1;31mZeroDivisionError\u001b[0m                         Traceback (most recent call last)",
      "\u001b[1;32m<ipython-input-13-bc757c3fda29>\u001b[0m in \u001b[0;36m<module>\u001b[1;34m\u001b[0m\n\u001b[1;32m----> 1\u001b[1;33m \u001b[1;36m1\u001b[0m \u001b[1;33m/\u001b[0m \u001b[1;36m0\u001b[0m\u001b[1;33m\u001b[0m\u001b[1;33m\u001b[0m\u001b[0m\n\u001b[0m",
      "\u001b[1;31mZeroDivisionError\u001b[0m: division by zero"
     ]
    }
   ],
   "source": [
    "1 / 0"
   ]
  },
  {
   "cell_type": "code",
   "execution_count": 17,
   "metadata": {},
   "outputs": [
    {
     "name": "stdout",
     "output_type": "stream",
     "text": [
      "You are divinding by zero mate\n"
     ]
    }
   ],
   "source": [
    "try: \n",
    "    1 / 0\n",
    "except:\n",
    "    print('You are divinding by zero mate')"
   ]
  },
  {
   "cell_type": "code",
   "execution_count": 21,
   "metadata": {},
   "outputs": [
    {
     "name": "stdout",
     "output_type": "stream",
     "text": [
      "1.0\n",
      "0.5\n",
      "0.3333333333333333\n",
      "0.2\n",
      "Divide by zero\n",
      "Programm keeps executing\n"
     ]
    }
   ],
   "source": [
    "num_list = [1,2,3,5,0]\n",
    "\n",
    "for num in num_list:\n",
    "    try:\n",
    "        print(1/ num)\n",
    "    except:\n",
    "        print('Divide by zero')\n",
    "\n",
    "print('Programm keeps executing')"
   ]
  },
  {
   "cell_type": "markdown",
   "metadata": {},
   "source": [
    "# Functions"
   ]
  },
  {
   "cell_type": "code",
   "execution_count": null,
   "metadata": {},
   "outputs": [],
   "source": [
    "# Define the function name and the requirements it needs():\n",
    "    #Perform actions\n",
    "    #Do some steps\n",
    "    #Optional: Return an output"
   ]
  },
  {
   "cell_type": "code",
   "execution_count": 26,
   "metadata": {},
   "outputs": [],
   "source": [
    "def arithmetic(number1, number2):\n",
    "    '''\n",
    "    This function add, subtracts, multiplies and divides number 1 and number 2\n",
    "    '''\n",
    "    \n",
    "    print(number1 + number2)\n",
    "    print(number1 - number2)\n",
    "    print(number1 * number2)\n",
    "    print(number1 / number2)\n",
    "    "
   ]
  },
  {
   "cell_type": "code",
   "execution_count": 25,
   "metadata": {},
   "outputs": [
    {
     "name": "stdout",
     "output_type": "stream",
     "text": [
      "8\n",
      "-2\n",
      "15\n",
      "0.6\n"
     ]
    }
   ],
   "source": [
    "arithmetic(3, 5)"
   ]
  },
  {
   "cell_type": "code",
   "execution_count": 27,
   "metadata": {},
   "outputs": [],
   "source": [
    "# Function that square a number and then add 5 \n",
    "\n",
    "def square_add_five(number):\n",
    "    \n",
    "    output = number ** 2 + 5\n",
    "    return output\n"
   ]
  },
  {
   "cell_type": "code",
   "execution_count": 29,
   "metadata": {},
   "outputs": [],
   "source": [
    "square_add_five(5)"
   ]
  },
  {
   "cell_type": "code",
   "execution_count": 35,
   "metadata": {},
   "outputs": [
    {
     "name": "stdout",
     "output_type": "stream",
     "text": [
      "0 squared and added 5 is 5\n",
      "1 squared and added 5 is 6\n",
      "2 squared and added 5 is 9\n",
      "3 squared and added 5 is 14\n",
      "4 squared and added 5 is 21\n",
      "5 squared and added 5 is 30\n"
     ]
    }
   ],
   "source": [
    "# Loop through a range of numbers (0,6) and apply that \n",
    "\n",
    "for i in range(0,6):\n",
    "    print(f'{i} squared and added 5 is {square_add_five(i)}')\n",
    "\n"
   ]
  },
  {
   "cell_type": "markdown",
   "metadata": {},
   "source": [
    "### 10) Write a function that takes a word as an argument and returns the number of vowels in the word."
   ]
  },
  {
   "cell_type": "code",
   "execution_count": 37,
   "metadata": {},
   "outputs": [],
   "source": [
    "def vowel_counter(word):\n",
    "    '''This function takes a word as and \n",
    "    argument and counts the number vowels'''\n",
    "    \n",
    "    counter = 0 \n",
    "    \n",
    "    for letter in word:\n",
    "        if letter in 'aeiouAEOIU':\n",
    "            counter +=1\n",
    "    print(f'The number of vowels in {word} is {counter}')\n",
    "    return counter\n",
    "        \n",
    "    "
   ]
  },
  {
   "cell_type": "code",
   "execution_count": 40,
   "metadata": {},
   "outputs": [
    {
     "name": "stdout",
     "output_type": "stream",
     "text": [
      "The number of vowels in a different is 4\n"
     ]
    },
    {
     "data": {
      "text/plain": [
       "4"
      ]
     },
     "execution_count": 40,
     "metadata": {},
     "output_type": "execute_result"
    }
   ],
   "source": [
    "vowel_counter('a different')"
   ]
  },
  {
   "cell_type": "markdown",
   "metadata": {},
   "source": [
    "### 11) Write a function to calculate the area of a triangle using a height and width.\n",
    "the area of a triangle is (height * width)/2"
   ]
  },
  {
   "cell_type": "code",
   "execution_count": 43,
   "metadata": {},
   "outputs": [],
   "source": [
    "def triangle_area(height, width):\n",
    "    ''' This function takes in height and \n",
    "    width and returns the area of the triangle'''\n",
    "    \n",
    "    area = 0.5 * height * width\n",
    "    return area "
   ]
  },
  {
   "cell_type": "code",
   "execution_count": 44,
   "metadata": {},
   "outputs": [
    {
     "data": {
      "text/plain": [
       "10.0"
      ]
     },
     "execution_count": 44,
     "metadata": {},
     "output_type": "execute_result"
    }
   ],
   "source": [
    "triangle_area(4,5)"
   ]
  },
  {
   "cell_type": "code",
   "execution_count": null,
   "metadata": {},
   "outputs": [],
   "source": []
  },
  {
   "cell_type": "markdown",
   "metadata": {},
   "source": [
    "# While loops"
   ]
  },
  {
   "cell_type": "code",
   "execution_count": 62,
   "metadata": {},
   "outputs": [
    {
     "name": "stdout",
     "output_type": "stream",
     "text": [
      "0\n",
      "1\n",
      "2\n",
      "3\n",
      "4\n",
      "5\n",
      "6\n",
      "7\n",
      "8\n",
      "9\n"
     ]
    }
   ],
   "source": [
    "x = 0 \n",
    "while x < 10:\n",
    "    print(x)\n",
    "    x +=1 \n",
    "    "
   ]
  },
  {
   "cell_type": "code",
   "execution_count": 67,
   "metadata": {},
   "outputs": [
    {
     "name": "stdout",
     "output_type": "stream",
     "text": [
      "What is my favourite animal??cat\n",
      "Sorry, no pick again..\n",
      "What is my favourite animal??horse\n",
      "That's right\n"
     ]
    }
   ],
   "source": [
    "status = False\n",
    "\n",
    "while status is False:\n",
    "    answer = input('What is my favourite animal??').lower()\n",
    "    \n",
    "    if answer == 'horse':\n",
    "        status = True\n",
    "        print(\"That's right\")\n",
    "    else:\n",
    "        print('Sorry, no pick again..')\n",
    "    "
   ]
  },
  {
   "cell_type": "markdown",
   "metadata": {},
   "source": [
    "### 12) Use `while` loops and strings.\n",
    "\n",
    "Iterate over the following sentence repeatedly, counting the number of vowels in the sentence until you have tallied one million. Print out the number of iterations it took to reach that amount."
   ]
  },
  {
   "cell_type": "code",
   "execution_count": 72,
   "metadata": {},
   "outputs": [],
   "source": [
    "sentence = \"A MAN KNOCKED ON MY DOOR AND ASKED FOR A SMALL DONATION TOWARDS THE LOCAL SWIMMING POOL SO I GAVE HIM A GLASS OF WATER\""
   ]
  },
  {
   "cell_type": "code",
   "execution_count": 75,
   "metadata": {},
   "outputs": [],
   "source": [
    "def vowel_counter(word):\n",
    "    '''This function takes a word as and \n",
    "    argument and counts the number vowels'''\n",
    "    \n",
    "    counter = 0 \n",
    "    \n",
    "    for letter in word:\n",
    "        if letter in 'aeiouAEOIU':\n",
    "            counter +=1\n",
    "    #print(f'The number of vowels in {word} is {counter}')\n",
    "    return counter\n",
    "        "
   ]
  },
  {
   "cell_type": "code",
   "execution_count": 73,
   "metadata": {},
   "outputs": [
    {
     "name": "stdout",
     "output_type": "stream",
     "text": [
      "The number of vowels in A MAN KNOCKED ON MY DOOR AND ASKED FOR A SMALL DONATION TOWARDS THE LOCAL SWIMMING POOL SO I GAVE HIM A GLASS OF WATER is 36\n"
     ]
    },
    {
     "data": {
      "text/plain": [
       "36"
      ]
     },
     "execution_count": 73,
     "metadata": {},
     "output_type": "execute_result"
    }
   ],
   "source": [
    "vowel_counter(sentence)"
   ]
  },
  {
   "cell_type": "code",
   "execution_count": 76,
   "metadata": {},
   "outputs": [
    {
     "name": "stdout",
     "output_type": "stream",
     "text": [
      "27778 1000008\n"
     ]
    }
   ],
   "source": [
    "counter = 0\n",
    "iterations = 0\n",
    "\n",
    "while counter < 1_000_000:\n",
    "    \n",
    "    count = vowel_counter(sentence)\n",
    "    counter += count\n",
    "    iterations +=1 \n",
    "    \n",
    "print(iterations, counter)\n",
    "\n",
    "# while the count of variables is less than a million\n",
    "    # count the vowels\n",
    "    # increase the number of iterations\n",
    "    # increase the value of the counter\n",
    "    "
   ]
  },
  {
   "cell_type": "markdown",
   "metadata": {},
   "source": [
    "### Challenge: Write a function that returns the score for a word. A word's score is the sum of the scores of its letters. Each letter's score is equal to its position in the alphabet.\n",
    "_Hint: The string library has a property_ `ascii_lowercase` _that can save some typing here._\n",
    "\n",
    "So, for example:\n",
    "\n",
    "* A = 1, B = 2, C = 3, D = 4, E = 5\n",
    "* abe = 8 = (1 + 2 + 5)\n"
   ]
  },
  {
   "cell_type": "markdown",
   "metadata": {},
   "source": [
    "# List and Dictionary Comprehensions"
   ]
  },
  {
   "cell_type": "code",
   "execution_count": 77,
   "metadata": {},
   "outputs": [],
   "source": [
    "sales_pounds = [300, 500, 200, 250 , 860, 100, 120]"
   ]
  },
  {
   "cell_type": "code",
   "execution_count": 85,
   "metadata": {},
   "outputs": [],
   "source": [
    "sales_dollars = []"
   ]
  },
  {
   "cell_type": "code",
   "execution_count": 86,
   "metadata": {},
   "outputs": [
    {
     "name": "stdout",
     "output_type": "stream",
     "text": [
      "[393.0, 655.0, 262.0, 327.5, 1126.6000000000001, 131.0, 157.20000000000002]\n"
     ]
    }
   ],
   "source": [
    "#using a for loop \n",
    "for sale in sales_pounds:\n",
    "    new_sale = sale * 1.31\n",
    "    sales_dollars.append(new_sale)\n",
    "\n",
    "#print(sales_dollars)"
   ]
  },
  {
   "cell_type": "code",
   "execution_count": 87,
   "metadata": {},
   "outputs": [],
   "source": [
    "#Using a list comprehension\n",
    "sales_dollars_2 = [sale * 1.31 for sale in sales_pounds]"
   ]
  },
  {
   "cell_type": "code",
   "execution_count": 88,
   "metadata": {},
   "outputs": [
    {
     "data": {
      "text/plain": [
       "[393.0, 655.0, 262.0, 327.5, 1126.6000000000001, 131.0, 157.20000000000002]"
      ]
     },
     "execution_count": 88,
     "metadata": {},
     "output_type": "execute_result"
    }
   ],
   "source": [
    "sales_dollars_2"
   ]
  },
  {
   "cell_type": "markdown",
   "metadata": {},
   "source": [
    "#### Convert every elemen in the list of names to uppercase using a list comprehension"
   ]
  },
  {
   "cell_type": "code",
   "execution_count": 94,
   "metadata": {},
   "outputs": [],
   "source": [
    "names = ['harry', 'hannah','chris','eli','jon','faheem']"
   ]
  },
  {
   "cell_type": "code",
   "execution_count": 95,
   "metadata": {},
   "outputs": [
    {
     "data": {
      "text/plain": [
       "['HARRY', 'HANNAH', 'CHRIS', 'ELI', 'JON', 'FAHEEM']"
      ]
     },
     "execution_count": 95,
     "metadata": {},
     "output_type": "execute_result"
    }
   ],
   "source": [
    "names_upper = [name.upper() for name in names]\n",
    "names_upper"
   ]
  },
  {
   "cell_type": "markdown",
   "metadata": {},
   "source": [
    "### Dictionary comprehension"
   ]
  },
  {
   "cell_type": "code",
   "execution_count": 104,
   "metadata": {},
   "outputs": [],
   "source": [
    "dictionary = {'key1': 5}\n",
    "dictionary['key2'] = 2\n",
    "dictionary['column3'] = 8"
   ]
  },
  {
   "cell_type": "code",
   "execution_count": 99,
   "metadata": {},
   "outputs": [],
   "source": [
    "animals = ['cat','dog','horse','cow','mouse']"
   ]
  },
  {
   "cell_type": "code",
   "execution_count": 101,
   "metadata": {},
   "outputs": [
    {
     "data": {
      "text/plain": [
       "{'cat': 3, 'dog': 3, 'horse': 5, 'cow': 3, 'mouse': 5}"
      ]
     },
     "execution_count": 101,
     "metadata": {},
     "output_type": "execute_result"
    }
   ],
   "source": [
    "animal_length = {}\n",
    "for animal in animals:\n",
    "    animal_length[animal] = len(animal)\n",
    "    \n",
    "animal_length"
   ]
  },
  {
   "cell_type": "code",
   "execution_count": 102,
   "metadata": {},
   "outputs": [],
   "source": [
    "animal_length2 = {animal:len(animal) for animal in animals}"
   ]
  },
  {
   "cell_type": "code",
   "execution_count": 103,
   "metadata": {},
   "outputs": [
    {
     "data": {
      "text/plain": [
       "{'cat': 3, 'dog': 3, 'horse': 5, 'cow': 3, 'mouse': 5}"
      ]
     },
     "execution_count": 103,
     "metadata": {},
     "output_type": "execute_result"
    }
   ],
   "source": [
    "animal_length2"
   ]
  },
  {
   "cell_type": "markdown",
   "metadata": {},
   "source": [
    "### Conditions in List comprehensions"
   ]
  },
  {
   "cell_type": "code",
   "execution_count": 106,
   "metadata": {},
   "outputs": [
    {
     "data": {
      "text/plain": [
       "[300, 500, 200, 250, 860, 100, 120]"
      ]
     },
     "execution_count": 106,
     "metadata": {},
     "output_type": "execute_result"
    }
   ],
   "source": [
    "sales_pounds"
   ]
  },
  {
   "cell_type": "code",
   "execution_count": 107,
   "metadata": {},
   "outputs": [
    {
     "data": {
      "text/plain": [
       "[393.0, 655.0, 262.0, 327.5, 1126.6000000000001, 114.99999999999999, 138.0]"
      ]
     },
     "execution_count": 107,
     "metadata": {},
     "output_type": "execute_result"
    }
   ],
   "source": [
    "conditional_sales = []\n",
    "\n",
    "for sale in sales_pounds:\n",
    "    if sale > 150:\n",
    "        new_sale = sale *1.31\n",
    "        conditional_sales.append(new_sale)\n",
    "    else:\n",
    "        new_sale = sale * 1.15\n",
    "        conditional_sales.append(new_sale)\n",
    "\n",
    "conditional_sales"
   ]
  },
  {
   "cell_type": "code",
   "execution_count": null,
   "metadata": {},
   "outputs": [],
   "source": [
    "# Why multiplying 1.15 is returning 114.9999 instead of 115.. "
   ]
  },
  {
   "cell_type": "code",
   "execution_count": 109,
   "metadata": {},
   "outputs": [
    {
     "data": {
      "text/plain": [
       "[393.0, 655.0, 262.0, 327.5, 1126.6000000000001, 114.99999999999999, 138.0]"
      ]
     },
     "execution_count": 109,
     "metadata": {},
     "output_type": "execute_result"
    }
   ],
   "source": [
    "# Using a list comprehension\n",
    "\n",
    "conditional_sales_2 = [sale * 1.31 if sale > 150 else sale * 1.15 for sale in sales_pounds]\n",
    "conditional_sales_2"
   ]
  },
  {
   "cell_type": "markdown",
   "metadata": {},
   "source": [
    "### 13) Use a list comprehension\n",
    "\n",
    "Iterate from 1 to 15, squaring each number and placing it into a list. Try to use a list comprehension."
   ]
  },
  {
   "cell_type": "code",
   "execution_count": 110,
   "metadata": {},
   "outputs": [
    {
     "data": {
      "text/plain": [
       "[1, 4, 9, 16, 25, 36, 49, 64, 81, 100, 121, 144, 169, 196, 225]"
      ]
     },
     "execution_count": 110,
     "metadata": {},
     "output_type": "execute_result"
    }
   ],
   "source": [
    "squared_list = [i**2 for i in range(1,16)]\n",
    "squared_list"
   ]
  },
  {
   "cell_type": "markdown",
   "metadata": {},
   "source": [
    "### 14) Use a dictionary comprehension\n",
    "\n",
    "Iterate through the list of names, creating a dictionary where the names are the keys. Assign a value of True if the name starts with 'L' and False otherwise"
   ]
  },
  {
   "cell_type": "code",
   "execution_count": 112,
   "metadata": {},
   "outputs": [],
   "source": [
    "names.append('Lauren')\n"
   ]
  },
  {
   "cell_type": "code",
   "execution_count": 117,
   "metadata": {},
   "outputs": [],
   "source": [
    "names_dict = {name:True if name[0].lower()=='l' else False for name in names}"
   ]
  },
  {
   "cell_type": "code",
   "execution_count": 115,
   "metadata": {},
   "outputs": [
    {
     "data": {
      "text/plain": [
       "{'harry': False,\n",
       " 'hannah': False,\n",
       " 'chris': False,\n",
       " 'eli': False,\n",
       " 'jon': False,\n",
       " 'faheem': False,\n",
       " 'Lauren': True}"
      ]
     },
     "execution_count": 115,
     "metadata": {},
     "output_type": "execute_result"
    }
   ],
   "source": [
    "names_dict"
   ]
  },
  {
   "cell_type": "markdown",
   "metadata": {},
   "source": [
    "### 15) Use a dictionary comprehension\n",
    "\n",
    "Loop through numbers from 1 to 20 and return a list that returns the number if it is an even number and squarea the number if it is odd."
   ]
  },
  {
   "cell_type": "markdown",
   "metadata": {},
   "source": []
  },
  {
   "cell_type": "markdown",
   "metadata": {},
   "source": [
    "# See you 11:45"
   ]
  },
  {
   "cell_type": "code",
   "execution_count": null,
   "metadata": {},
   "outputs": [],
   "source": []
  },
  {
   "cell_type": "markdown",
   "metadata": {},
   "source": [
    "# Control Flow on the Coffee Preference Data Set "
   ]
  },
  {
   "cell_type": "code",
   "execution_count": 119,
   "metadata": {},
   "outputs": [],
   "source": [
    "with open('data/coffee-preferences.csv', 'r') as f:\n",
    "    lines = f.readlines()"
   ]
  },
  {
   "cell_type": "markdown",
   "metadata": {},
   "source": [
    "### 2) Remove the remaining newline `'\\n'` characters with a `for` loop.\n",
    "Iterate through the lines of the data and remove the unwanted newline characters.\n",
    "\n",
    "**.replace('\\n', '')** is a built-in string function that will take the substring you want to replace as its first argument and the string you want to replace it with as its second."
   ]
  },
  {
   "cell_type": "code",
   "execution_count": 125,
   "metadata": {},
   "outputs": [
    {
     "data": {
      "text/plain": [
       "['Timestamp,Name,Starbucks,PhilzCoffee,BlueBottleCoffee,PeetsTea,CaffeTrieste,GrandCoffee,RitualCoffee,FourBarrel,WorkshopCafe\\n',\n",
       " '3/17/2015 18:37:58,Alison,3,5,4,3,,,5,5,\\n',\n",
       " '3/17/2015 18:38:09,April,4,5,5,3,,,3,,5\\n',\n",
       " '3/17/2015 18:38:25,Vijay,3,5,5,5,3,2,1,1,1\\n',\n",
       " '3/17/2015 18:38:28,Vanessa,1,5,5,2,,,3,2,3\\n',\n",
       " '3/17/2015 18:38:46,Isabel,1,4,4,2,4,,4,4,\\n',\n",
       " '3/17/2015 18:39:01,India,5,3,3,3,3,1,,,3\\n',\n",
       " '3/17/2015 18:39:01,Dave H,4,5,,5,,,,,\\n',\n",
       " '3/17/2015 18:39:05,Deepthi,3,5,,2,,,,,2\\n',\n",
       " '3/17/2015 18:39:14,Ramesh,3,4,,3,,,,,4\\n',\n",
       " '3/17/2015 18:39:23,Hugh,1,5,5,4,5,2,5,4,1\\n',\n",
       " '3/17/2015 18:39:23,Alex,4,5,,3,,,,,\\n',\n",
       " '3/17/2015 18:39:30,Ajay Anand,3,4,4,3,5,,,,\\n',\n",
       " '3/17/2015 18:39:35,David Feng,2,3,4,2,2,,5,4,3\\n',\n",
       " '3/17/2015 18:39:42,Zach,3,4,4,3,,,,,5\\n',\n",
       " '3/17/2015 18:40:44,Matt,3,5,4,3,2,2,4,3,2\\n',\n",
       " '3/17/2015 18:40:49,Markus,3,5,,3,,,4,,\\n',\n",
       " '3/17/2015 18:41:18,Otto,4,2,2,5,,,3,3,3\\n',\n",
       " '3/17/2015 18:41:23,Alessandro,1,5,3,2,,,4,3,\\n',\n",
       " '3/17/2015 18:41:35,Rocky,3,5,4,3,3,3,4,4,3\\n',\n",
       " '3/17/2015 18:42:01,Cheong-tseng,3,1,,,,,4,,']"
      ]
     },
     "execution_count": 125,
     "metadata": {},
     "output_type": "execute_result"
    }
   ],
   "source": [
    "lines"
   ]
  },
  {
   "cell_type": "code",
   "execution_count": 128,
   "metadata": {},
   "outputs": [],
   "source": [
    "#A:\n",
    "# clean_lines = list comprehension that replaces '\\n' with '' for every line in the lines list \n",
    "clean_lines = [line.replace('\\n', '') for line in lines]"
   ]
  },
  {
   "cell_type": "code",
   "execution_count": 129,
   "metadata": {},
   "outputs": [
    {
     "data": {
      "text/plain": [
       "['Timestamp,Name,Starbucks,PhilzCoffee,BlueBottleCoffee,PeetsTea,CaffeTrieste,GrandCoffee,RitualCoffee,FourBarrel,WorkshopCafe',\n",
       " '3/17/2015 18:37:58,Alison,3,5,4,3,,,5,5,',\n",
       " '3/17/2015 18:38:09,April,4,5,5,3,,,3,,5',\n",
       " '3/17/2015 18:38:25,Vijay,3,5,5,5,3,2,1,1,1',\n",
       " '3/17/2015 18:38:28,Vanessa,1,5,5,2,,,3,2,3',\n",
       " '3/17/2015 18:38:46,Isabel,1,4,4,2,4,,4,4,',\n",
       " '3/17/2015 18:39:01,India,5,3,3,3,3,1,,,3',\n",
       " '3/17/2015 18:39:01,Dave H,4,5,,5,,,,,',\n",
       " '3/17/2015 18:39:05,Deepthi,3,5,,2,,,,,2',\n",
       " '3/17/2015 18:39:14,Ramesh,3,4,,3,,,,,4',\n",
       " '3/17/2015 18:39:23,Hugh,1,5,5,4,5,2,5,4,1',\n",
       " '3/17/2015 18:39:23,Alex,4,5,,3,,,,,',\n",
       " '3/17/2015 18:39:30,Ajay Anand,3,4,4,3,5,,,,',\n",
       " '3/17/2015 18:39:35,David Feng,2,3,4,2,2,,5,4,3',\n",
       " '3/17/2015 18:39:42,Zach,3,4,4,3,,,,,5',\n",
       " '3/17/2015 18:40:44,Matt,3,5,4,3,2,2,4,3,2',\n",
       " '3/17/2015 18:40:49,Markus,3,5,,3,,,4,,',\n",
       " '3/17/2015 18:41:18,Otto,4,2,2,5,,,3,3,3',\n",
       " '3/17/2015 18:41:23,Alessandro,1,5,3,2,,,4,3,',\n",
       " '3/17/2015 18:41:35,Rocky,3,5,4,3,3,3,4,4,3',\n",
       " '3/17/2015 18:42:01,Cheong-tseng,3,1,,,,,4,,']"
      ]
     },
     "execution_count": 129,
     "metadata": {},
     "output_type": "execute_result"
    }
   ],
   "source": [
    "clean_lines"
   ]
  },
  {
   "cell_type": "markdown",
   "metadata": {},
   "source": [
    "### 3) Split the lines into \"header\" and \"data\" variables.\n",
    "\n",
    "The header is the first string in the list of strings. It contains our data's column names."
   ]
  },
  {
   "cell_type": "code",
   "execution_count": 134,
   "metadata": {},
   "outputs": [],
   "source": [
    "header = clean_lines[0]\n",
    "data = clean_lines[1:]"
   ]
  },
  {
   "cell_type": "markdown",
   "metadata": {},
   "source": [
    "### 4) Split the header and data strings on commas.\n",
    "\n",
    "To split a string on the comma character, use the built-in **`.split(',')`** function. \n",
    "\n",
    "Split the header on commas, then print it. You can see that the original string is now a list containing items that were originally separated by commas."
   ]
  },
  {
   "cell_type": "code",
   "execution_count": 136,
   "metadata": {},
   "outputs": [],
   "source": [
    "header_list = header.split(',')\n",
    "\n",
    "data_list = [item.split(',') for item in data]"
   ]
  },
  {
   "cell_type": "code",
   "execution_count": 137,
   "metadata": {},
   "outputs": [
    {
     "data": {
      "text/plain": [
       "['Timestamp',\n",
       " 'Name',\n",
       " 'Starbucks',\n",
       " 'PhilzCoffee',\n",
       " 'BlueBottleCoffee',\n",
       " 'PeetsTea',\n",
       " 'CaffeTrieste',\n",
       " 'GrandCoffee',\n",
       " 'RitualCoffee',\n",
       " 'FourBarrel',\n",
       " 'WorkshopCafe']"
      ]
     },
     "execution_count": 137,
     "metadata": {},
     "output_type": "execute_result"
    }
   ],
   "source": [
    "header_list"
   ]
  },
  {
   "cell_type": "code",
   "execution_count": 138,
   "metadata": {},
   "outputs": [
    {
     "data": {
      "text/plain": [
       "[['3/17/2015 18:37:58', 'Alison', '3', '5', '4', '3', '', '', '5', '5', ''],\n",
       " ['3/17/2015 18:38:09', 'April', '4', '5', '5', '3', '', '', '3', '', '5'],\n",
       " ['3/17/2015 18:38:25', 'Vijay', '3', '5', '5', '5', '3', '2', '1', '1', '1'],\n",
       " ['3/17/2015 18:38:28', 'Vanessa', '1', '5', '5', '2', '', '', '3', '2', '3'],\n",
       " ['3/17/2015 18:38:46', 'Isabel', '1', '4', '4', '2', '4', '', '4', '4', ''],\n",
       " ['3/17/2015 18:39:01', 'India', '5', '3', '3', '3', '3', '1', '', '', '3'],\n",
       " ['3/17/2015 18:39:01', 'Dave H', '4', '5', '', '5', '', '', '', '', ''],\n",
       " ['3/17/2015 18:39:05', 'Deepthi', '3', '5', '', '2', '', '', '', '', '2'],\n",
       " ['3/17/2015 18:39:14', 'Ramesh', '3', '4', '', '3', '', '', '', '', '4'],\n",
       " ['3/17/2015 18:39:23', 'Hugh', '1', '5', '5', '4', '5', '2', '5', '4', '1'],\n",
       " ['3/17/2015 18:39:23', 'Alex', '4', '5', '', '3', '', '', '', '', ''],\n",
       " ['3/17/2015 18:39:30', 'Ajay Anand', '3', '4', '4', '3', '5', '', '', '', ''],\n",
       " ['3/17/2015 18:39:35',\n",
       "  'David Feng',\n",
       "  '2',\n",
       "  '3',\n",
       "  '4',\n",
       "  '2',\n",
       "  '2',\n",
       "  '',\n",
       "  '5',\n",
       "  '4',\n",
       "  '3'],\n",
       " ['3/17/2015 18:39:42', 'Zach', '3', '4', '4', '3', '', '', '', '', '5'],\n",
       " ['3/17/2015 18:40:44', 'Matt', '3', '5', '4', '3', '2', '2', '4', '3', '2'],\n",
       " ['3/17/2015 18:40:49', 'Markus', '3', '5', '', '3', '', '', '4', '', ''],\n",
       " ['3/17/2015 18:41:18', 'Otto', '4', '2', '2', '5', '', '', '3', '3', '3'],\n",
       " ['3/17/2015 18:41:23',\n",
       "  'Alessandro',\n",
       "  '1',\n",
       "  '5',\n",
       "  '3',\n",
       "  '2',\n",
       "  '',\n",
       "  '',\n",
       "  '4',\n",
       "  '3',\n",
       "  ''],\n",
       " ['3/17/2015 18:41:35', 'Rocky', '3', '5', '4', '3', '3', '3', '4', '4', '3'],\n",
       " ['3/17/2015 18:42:01', 'Cheong-tseng', '3', '1', '', '', '', '', '4', '', '']]"
      ]
     },
     "execution_count": 138,
     "metadata": {},
     "output_type": "execute_result"
    }
   ],
   "source": [
    "data_list"
   ]
  },
  {
   "cell_type": "markdown",
   "metadata": {},
   "source": [
    "### 5) Remove the \"Timestamp\" column."
   ]
  },
  {
   "cell_type": "code",
   "execution_count": 143,
   "metadata": {},
   "outputs": [],
   "source": [
    "# There is a remove method that removes elements from a list. \n",
    "# We can also filter out elements in a list based on their index position.\n",
    "\n",
    "#header.method_remove('what I need removing')\n",
    "\n",
    "#list comrehension to \n",
    "#create a new list = [ which part of the data I need for every line in my clean lines list]\n",
    "\n",
    "header_list.remove('Timestamp')\n",
    "\n"
   ]
  },
  {
   "cell_type": "code",
   "execution_count": 149,
   "metadata": {},
   "outputs": [],
   "source": [
    "data_list = [entry[1:] for entry in data_list]"
   ]
  },
  {
   "cell_type": "code",
   "execution_count": 150,
   "metadata": {},
   "outputs": [
    {
     "data": {
      "text/plain": [
       "[['Alison', '3', '5', '4', '3', '', '', '5', '5', ''],\n",
       " ['April', '4', '5', '5', '3', '', '', '3', '', '5'],\n",
       " ['Vijay', '3', '5', '5', '5', '3', '2', '1', '1', '1'],\n",
       " ['Vanessa', '1', '5', '5', '2', '', '', '3', '2', '3'],\n",
       " ['Isabel', '1', '4', '4', '2', '4', '', '4', '4', ''],\n",
       " ['India', '5', '3', '3', '3', '3', '1', '', '', '3'],\n",
       " ['Dave H', '4', '5', '', '5', '', '', '', '', ''],\n",
       " ['Deepthi', '3', '5', '', '2', '', '', '', '', '2'],\n",
       " ['Ramesh', '3', '4', '', '3', '', '', '', '', '4'],\n",
       " ['Hugh', '1', '5', '5', '4', '5', '2', '5', '4', '1'],\n",
       " ['Alex', '4', '5', '', '3', '', '', '', '', ''],\n",
       " ['Ajay Anand', '3', '4', '4', '3', '5', '', '', '', ''],\n",
       " ['David Feng', '2', '3', '4', '2', '2', '', '5', '4', '3'],\n",
       " ['Zach', '3', '4', '4', '3', '', '', '', '', '5'],\n",
       " ['Matt', '3', '5', '4', '3', '2', '2', '4', '3', '2'],\n",
       " ['Markus', '3', '5', '', '3', '', '', '4', '', ''],\n",
       " ['Otto', '4', '2', '2', '5', '', '', '3', '3', '3'],\n",
       " ['Alessandro', '1', '5', '3', '2', '', '', '4', '3', ''],\n",
       " ['Rocky', '3', '5', '4', '3', '3', '3', '4', '4', '3'],\n",
       " ['Cheong-tseng', '3', '1', '', '', '', '', '4', '', '']]"
      ]
     },
     "execution_count": 150,
     "metadata": {},
     "output_type": "execute_result"
    }
   ],
   "source": [
    "data_list"
   ]
  },
  {
   "cell_type": "markdown",
   "metadata": {},
   "source": [
    "### 6) Convert numeric columns to floats and empty fields to `None`.\n",
    "Iterate through the data and construct a new data list of lists that contains the numeric ratings converted from strings to floats and the empty fields (which are empty strings, '') replaced with the None object.\n",
    "\n",
    "Use a nested for loop (a for loop within another for loop) to get the job done. You will likely need to use if… else conditional statements as well.\n",
    "\n",
    "Print out the new data object to make sure you've succeeded."
   ]
  },
  {
   "cell_type": "code",
   "execution_count": 139,
   "metadata": {},
   "outputs": [],
   "source": [
    "# Hint: Try and Except if your code returns an error"
   ]
  },
  {
   "cell_type": "code",
   "execution_count": 140,
   "metadata": {},
   "outputs": [],
   "source": [
    "# This one is bloody hard"
   ]
  },
  {
   "cell_type": "code",
   "execution_count": 158,
   "metadata": {},
   "outputs": [
    {
     "data": {
      "text/plain": [
       "['Alison', '3', '5', '4', '3', '', '', '5', '5', '']"
      ]
     },
     "execution_count": 158,
     "metadata": {},
     "output_type": "execute_result"
    }
   ],
   "source": [
    "data_list[0]"
   ]
  },
  {
   "cell_type": "code",
   "execution_count": 159,
   "metadata": {},
   "outputs": [],
   "source": [
    "data_formatted = []\n",
    "\n",
    "for item in data_list:\n",
    "    for record in item:\n",
    "        try:\n",
    "            data_formatted.append(float(record))\n",
    "        except:\n",
    "            if record == '':\n",
    "                data_formatted.append(None)\n",
    "            else:\n",
    "                data_formatted.append(record)\n"
   ]
  },
  {
   "cell_type": "code",
   "execution_count": 167,
   "metadata": {},
   "outputs": [],
   "source": [
    "data_formatted = []\n",
    "\n",
    "for item in data_list:\n",
    "    line_list= []\n",
    "    for record in item:\n",
    "        try:\n",
    "            line_list.append(float(record))\n",
    "        except:\n",
    "            if record == '':\n",
    "                line_list.append(None)\n",
    "            else:\n",
    "                line_list.append(record)\n",
    "    data_formatted.append(line_list)\n"
   ]
  },
  {
   "cell_type": "code",
   "execution_count": 166,
   "metadata": {},
   "outputs": [
    {
     "data": {
      "text/plain": [
       "['April', '4', '5', '5', '3', '', '', '3', '', '5']"
      ]
     },
     "execution_count": 166,
     "metadata": {},
     "output_type": "execute_result"
    }
   ],
   "source": [
    "data_list[1]"
   ]
  },
  {
   "cell_type": "code",
   "execution_count": 165,
   "metadata": {},
   "outputs": [],
   "source": [
    "line_list = []"
   ]
  },
  {
   "cell_type": "code",
   "execution_count": 168,
   "metadata": {},
   "outputs": [
    {
     "data": {
      "text/plain": [
       "[['Alison', 3.0, 5.0, 4.0, 3.0, None, None, 5.0, 5.0, None],\n",
       " ['April', 4.0, 5.0, 5.0, 3.0, None, None, 3.0, None, 5.0],\n",
       " ['Vijay', 3.0, 5.0, 5.0, 5.0, 3.0, 2.0, 1.0, 1.0, 1.0],\n",
       " ['Vanessa', 1.0, 5.0, 5.0, 2.0, None, None, 3.0, 2.0, 3.0],\n",
       " ['Isabel', 1.0, 4.0, 4.0, 2.0, 4.0, None, 4.0, 4.0, None],\n",
       " ['India', 5.0, 3.0, 3.0, 3.0, 3.0, 1.0, None, None, 3.0],\n",
       " ['Dave H', 4.0, 5.0, None, 5.0, None, None, None, None, None],\n",
       " ['Deepthi', 3.0, 5.0, None, 2.0, None, None, None, None, 2.0],\n",
       " ['Ramesh', 3.0, 4.0, None, 3.0, None, None, None, None, 4.0],\n",
       " ['Hugh', 1.0, 5.0, 5.0, 4.0, 5.0, 2.0, 5.0, 4.0, 1.0],\n",
       " ['Alex', 4.0, 5.0, None, 3.0, None, None, None, None, None],\n",
       " ['Ajay Anand', 3.0, 4.0, 4.0, 3.0, 5.0, None, None, None, None],\n",
       " ['David Feng', 2.0, 3.0, 4.0, 2.0, 2.0, None, 5.0, 4.0, 3.0],\n",
       " ['Zach', 3.0, 4.0, 4.0, 3.0, None, None, None, None, 5.0],\n",
       " ['Matt', 3.0, 5.0, 4.0, 3.0, 2.0, 2.0, 4.0, 3.0, 2.0],\n",
       " ['Markus', 3.0, 5.0, None, 3.0, None, None, 4.0, None, None],\n",
       " ['Otto', 4.0, 2.0, 2.0, 5.0, None, None, 3.0, 3.0, 3.0],\n",
       " ['Alessandro', 1.0, 5.0, 3.0, 2.0, None, None, 4.0, 3.0, None],\n",
       " ['Rocky', 3.0, 5.0, 4.0, 3.0, 3.0, 3.0, 4.0, 4.0, 3.0],\n",
       " ['Cheong-tseng', 3.0, 1.0, None, None, None, None, 4.0, None, None]]"
      ]
     },
     "execution_count": 168,
     "metadata": {},
     "output_type": "execute_result"
    }
   ],
   "source": [
    "data_formatted"
   ]
  },
  {
   "cell_type": "code",
   "execution_count": 183,
   "metadata": {},
   "outputs": [],
   "source": [
    "# create an empty dictionary\n",
    "\n",
    "# iterate through the data formatted list \n",
    "    # start a counter\n",
    "    # iterate through the item list \n",
    "        # if it is none then increase the counter by 1 \n",
    "        \n",
    "\n",
    "#dictionary[first index of our data formatted list] = counter \n",
    "none_dictionary = {}\n",
    "\n",
    "\n",
    "for item in data_formatted:\n",
    "    count = 0\n",
    "    for i in item:\n",
    "        if i == None:\n",
    "            count+=1\n",
    "    none_dictionary[item[0]] = count"
   ]
  },
  {
   "cell_type": "code",
   "execution_count": 184,
   "metadata": {},
   "outputs": [
    {
     "data": {
      "text/plain": [
       "{'Alison': 3,\n",
       " 'April': 3,\n",
       " 'Vijay': 0,\n",
       " 'Vanessa': 2,\n",
       " 'Isabel': 2,\n",
       " 'India': 2,\n",
       " 'Dave H': 6,\n",
       " 'Deepthi': 5,\n",
       " 'Ramesh': 5,\n",
       " 'Hugh': 0,\n",
       " 'Alex': 6,\n",
       " 'Ajay Anand': 4,\n",
       " 'David Feng': 1,\n",
       " 'Zach': 4,\n",
       " 'Matt': 0,\n",
       " 'Markus': 5,\n",
       " 'Otto': 2,\n",
       " 'Alessandro': 3,\n",
       " 'Rocky': 0,\n",
       " 'Cheong-tseng': 6}"
      ]
     },
     "execution_count": 184,
     "metadata": {},
     "output_type": "execute_result"
    }
   ],
   "source": [
    "none_dictionary"
   ]
  },
  {
   "cell_type": "markdown",
   "metadata": {},
   "source": [
    "### 8) Calculate average rating per coffee brand.\n",
    "\n",
    "**Excluding `None` values**, calculate the average rating per brand of coffee.\n",
    "\n",
    "The final output should be a dictionary with the coffee brand names as keys and their average rating as the values.\n",
    "\n",
    "Remember that the average can be calculated as the sum of the ratings over the number of ratings:\n",
    "\n",
    "```python\n",
    "average_rating = float(sum(ratings_list))/len(ratings_list)\n",
    "```\n",
    "\n",
    "Print your dictionary to see the average brand ratings."
   ]
  },
  {
   "cell_type": "code",
   "execution_count": null,
   "metadata": {},
   "outputs": [],
   "source": []
  }
 ],
 "metadata": {
  "kernelspec": {
   "display_name": "Python 3",
   "language": "python",
   "name": "python3"
  },
  "language_info": {
   "codemirror_mode": {
    "name": "ipython",
    "version": 3
   },
   "file_extension": ".py",
   "mimetype": "text/x-python",
   "name": "python",
   "nbconvert_exporter": "python",
   "pygments_lexer": "ipython3",
   "version": "3.8.3"
  }
 },
 "nbformat": 4,
 "nbformat_minor": 4
}
